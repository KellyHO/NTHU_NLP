{
 "cells": [
  {
   "cell_type": "code",
   "execution_count": 1,
   "metadata": {},
   "outputs": [],
   "source": [
    "from collections import defaultdict\n",
    "import numpy as np"
   ]
  },
  {
   "cell_type": "code",
   "execution_count": 2,
   "metadata": {},
   "outputs": [],
   "source": [
    "ch_text = open('UM-Corpus.ch.200k.tagged.txt')\n",
    "ch_list = []\n",
    "for line in ch_text:\n",
    "    ch_list.append(line.strip().split(' '))"
   ]
  },
  {
   "cell_type": "code",
   "execution_count": 70,
   "metadata": {},
   "outputs": [
    {
     "data": {
      "text/plain": [
       "'全體_N'"
      ]
     },
     "execution_count": 70,
     "metadata": {},
     "output_type": "execute_result"
    }
   ],
   "source": [
    "ch_list[0][0]"
   ]
  },
  {
   "cell_type": "code",
   "execution_count": 3,
   "metadata": {},
   "outputs": [],
   "source": [
    "match_token = open('align.final.200k','r')\n",
    "match_list = []\n",
    "for line in match_token:\n",
    "    match_list.append(line.strip().split())\n",
    "#     print(line)"
   ]
  },
  {
   "cell_type": "code",
   "execution_count": null,
   "metadata": {},
   "outputs": [],
   "source": [
    "ch_list[141]"
   ]
  },
  {
   "cell_type": "code",
   "execution_count": 4,
   "metadata": {
    "scrolled": true
   },
   "outputs": [
    {
     "name": "stdout",
     "output_type": "stream",
     "text": [
      "BE\tV n\tis no abrasion\t2\t4\n",
      "14\n",
      "11\n",
      "11\n",
      "BE\tV adj\tis reusable\t13\t14\n",
      "11\n",
      "11\n"
     ]
    }
   ],
   "source": [
    "all_info = []\n",
    "for n, line in enumerate(open('all_patterns.txt','r').read().split('\\n\\n')):\n",
    "    \n",
    "    try:\n",
    "        sent, patterns = line.strip().split('\\n',1)\n",
    "        for p in patterns.split('\\n'):\n",
    "            if n == 141:\n",
    "                print(p)\n",
    "                \n",
    "            start = int(p.split('\\t')[3])\n",
    "            end = int(p.split('\\t')[4])\n",
    "            to_ch_index = []\n",
    "            \n",
    "            for index in range(start,end+1):\n",
    "                if n == 141:\n",
    "                    print(l.split('-')[1])\n",
    "                for l in match_list[n]:\n",
    "                    if l.split('-')[0] == str(index):\n",
    "                        to_ch_index.append(l.split('-')[1])\n",
    "            if to_ch_index:\n",
    "#                 print(p)\n",
    "                \n",
    "                to_ch_index = ' '.join(to_ch_index)\n",
    "#             if to_ch_index == ' ':\n",
    "#                 print(p)\n",
    "                \n",
    "            \n",
    "            \n",
    "        \n",
    "                all_info.append((n,p.split('\\t')[1],p.split('\\t')[2],to_ch_index))\n",
    "    \n",
    "    except:\n",
    "            continue\n",
    "    "
   ]
  },
  {
   "cell_type": "code",
   "execution_count": 64,
   "metadata": {},
   "outputs": [
    {
     "data": {
      "text/plain": [
       "(11813, 'V n', 'using cash', '3 4')"
      ]
     },
     "execution_count": 64,
     "metadata": {},
     "output_type": "execute_result"
    }
   ],
   "source": [
    "all_info[26644]"
   ]
  },
  {
   "cell_type": "code",
   "execution_count": 87,
   "metadata": {},
   "outputs": [
    {
     "name": "stdout",
     "output_type": "stream",
     "text": [
      "58923 26644 ['....']\n",
      "58924 26644 ['....']\n",
      "58925 26644 ['....']\n",
      "76052 35731 ['...']\n",
      "76056 35731 ['...']\n",
      "76057 35731 ['...']\n",
      "217423 113556 ['......']\n",
      "217424 113556 ['......']\n",
      "218656 114169 ['...']\n",
      "343669 197116 ['.....']\n"
     ]
    }
   ],
   "source": [
    "all_info_dict = defaultdict(lambda:defaultdict(lambda:[]))\n",
    "N_V = ['N','V']\n",
    "vpn = [\"V about n\",\"V in n\", \"V on n\",\"V to n\",\"V for n\", \"V with n\"]\n",
    "ignore_p = [(\"asp\",\"\"),(\"sfp\",\"\"),(\"det\",\"\"),(\"cl\",\"\"),(\"de\",\"\")]\n",
    "for n, info in enumerate(all_info):\n",
    "    \n",
    "    # tag match to see if is I DONT KNOW~~~\n",
    "    en_right_tag = info[1].split(' ')[0]\n",
    "    ch_doubt_tag = info[3].split(' ')[0]\n",
    "#     print(info[2])\n",
    "    sent_index = int(info[0])\n",
    "    ch_trans = []\n",
    "    ch_tags = []\n",
    "    \n",
    "#     print(sent_index,n)\n",
    "    try:\n",
    "        flag = False\n",
    "        temp = sorted([int(i) for i in set(info[3].strip().split(' '))])\n",
    "        for i in temp:\n",
    "            i = str(i)\n",
    "#             print()\n",
    "            ch_trans.append(ch_list[sent_index][int(i)])\n",
    "            \n",
    "            if ch_list[sent_index][int(i)].split('_')[1] in N_V:\n",
    "#             print(i , ch_doubt_tag,ch_list[sent_index][int(i)].split('_')[1],en_right_tag)\n",
    "\n",
    "                if i == ch_doubt_tag and ch_list[sent_index][int(i)].split('_')[1] == en_right_tag:\n",
    "                    flag = True\n",
    "                    ch_tags.append(ch_list[sent_index][int(i)].split('_')[1])\n",
    "                else:\n",
    "                    ch_tags.append(ch_list[sent_index][int(i)].split('_')[1].lower())\n",
    "                \n",
    "            else:\n",
    "                ch_tags.append(ch_list[sent_index][int(i)].split('_')[1].lower())\n",
    "#             else:\n",
    "#                 ch_trans.append(ch_list[sent_index][int(i)])\n",
    "            \n",
    "        whole_sent = info[2] + '\\t' +' '.join(ch_trans)\n",
    "#         print(ch_tags)\n",
    "        if flag:\n",
    "            x = ' '.join(ch_tags)\n",
    "            for i in ignore_p:\n",
    "                x = x.replace(i[0],i[1])\n",
    "            x = ' '.join([xxx.strip() for xxx in x.split()]).replace('nv n', 'n').replace('n n', 'n').replace('adv V', 'V')\n",
    "            \n",
    "            if info[1] in vpn:\n",
    "                all_info_dict['V p n'][x].append(whole_sent)\n",
    "            else:\n",
    "                all_info_dict[info[1]][x].append(whole_sent)\n",
    "    except:\n",
    "        print(n,sent_index,ch_list[sent_index][int(i)].split('_'))\n",
    "#     print('-------')"
   ]
  },
  {
   "cell_type": "code",
   "execution_count": 76,
   "metadata": {},
   "outputs": [
    {
     "data": {
      "text/plain": [
       "[]"
      ]
     },
     "execution_count": 76,
     "metadata": {},
     "output_type": "execute_result"
    }
   ],
   "source": [
    "all_info_dict['V p n'][0]"
   ]
  },
  {
   "cell_type": "code",
   "execution_count": null,
   "metadata": {},
   "outputs": [],
   "source": [
    "search_word = 'V n'\n"
   ]
  },
  {
   "cell_type": "code",
   "execution_count": 27,
   "metadata": {
    "scrolled": true
   },
   "outputs": [
    {
     "name": "stdout",
     "output_type": "stream",
     "text": [
      "0\n",
      "168\n",
      "75178\n",
      "0\n",
      "['can be for yourself\\t對_P 你_N 是_V', 'can be for yourself\\t對_P 你_N 是_V', 'can be for yourself\\t對_P 你_N 是_V', 'can be for yourself\\t對_P 你_N 是_V', 'can be for yourself\\t對_P 你_N 是_V', 'can be for yourself\\t對_P 你_N 是_V', 'can be for yourself\\t對_P 你_N 是_V', 'can be for yourself\\t對_P 你_N 是_V', 'discuss with you\\t與_P 您_N 討論_V', 'discuss with you\\t與_P 您_N 討論_V', 'discuss with you\\t與_P 您_N 討論_V', 'discuss with you\\t與_P 您_N 討論_V', 'discuss with you\\t與_P 您_N 討論_V', 'discuss with you\\t與_P 您_N 討論_V', 'discuss with you\\t與_P 您_N 討論_V', 'discuss with you\\t與_P 您_N 討論_V', 'talked with me\\t與_P 我_N 說話_V', 'talked with me\\t與_P 我_N 說話_V', 'talked with me\\t與_P 我_N 說話_V', 'talked with me\\t與_P 我_N 說話_V', 'talked with me\\t與_P 我_N 說話_V', 'talked with me\\t與_P 我_N 說話_V', 'talked with me\\t與_P 我_N 說話_V', 'talked with me\\t與_P 我_N 說話_V', 'talk with you\\t和_P 你_N 見面_V', 'talk with you\\t和_P 你_N 見面_V', 'talk with you\\t和_P 你_N 見面_V', 'talk with you\\t和_P 你_N 見面_V', 'talk with you\\t和_P 你_N 見面_V', 'talk with you\\t和_P 你_N 見面_V', 'talk with you\\t和_P 你_N 見面_V', 'talk with you\\t和_P 你_N 見面_V', 'sleep with the girl\\t同_P 姑娘_N 睡覺_V', 'sleep with the girl\\t同_P 姑娘_N 睡覺_V', 'sleep with the girl\\t同_P 姑娘_N 睡覺_V', 'sleep with the girl\\t同_P 姑娘_N 睡覺_V', 'sleep with the girl\\t同_P 姑娘_N 睡覺_V', 'sleep with the girl\\t同_P 姑娘_N 睡覺_V', 'sleep with the girl\\t同_P 姑娘_N 睡覺_V', 'sleep with the girl\\t同_P 姑娘_N 睡覺_V', 'is sent to the customer\\t向_P 客戶_N 傳送_V', 'is sent to the customer\\t向_P 客戶_N 傳送_V', 'is sent to the customer\\t向_P 客戶_N 傳送_V', 'is sent to the customer\\t向_P 客戶_N 傳送_V', 'is sent to the customer\\t向_P 客戶_N 傳送_V', 'is sent to the customer\\t向_P 客戶_N 傳送_V', 'is sent to the customer\\t向_P 客戶_N 傳送_V', 'is sent to the customer\\t向_P 客戶_N 傳送_V', 'bedecked with flowers\\t用_P 鮮花_N 裝飾_V', 'bedecked with flowers\\t用_P 鮮花_N 裝飾_V', 'bedecked with flowers\\t用_P 鮮花_N 裝飾_V', 'bedecked with flowers\\t用_P 鮮花_N 裝飾_V', 'bedecked with flowers\\t用_P 鮮花_N 裝飾_V', 'bedecked with flowers\\t用_P 鮮花_N 裝飾_V', 'bedecked with flowers\\t用_P 鮮花_N 裝飾_V', 'bedecked with flowers\\t用_P 鮮花_N 裝飾_V', 'run in the morning\\t在_P 早上_N 跑步_V', 'run in the morning\\t在_P 早上_N 跑步_V', 'run in the morning\\t在_P 早上_N 跑步_V', 'run in the morning\\t在_P 早上_N 跑步_V', 'run in the morning\\t在_P 早上_N 跑步_V', 'run in the morning\\t在_P 早上_N 跑步_V', 'run in the morning\\t在_P 早上_N 跑步_V', 'run in the morning\\t在_P 早上_N 跑步_V', 'walks in the open air\\t在_P 戶外_N 散步_V', 'walks in the open air\\t在_P 戶外_N 散步_V', 'walks in the open air\\t在_P 戶外_N 散步_V', 'walks in the open air\\t在_P 戶外_N 散步_V', 'walks in the open air\\t在_P 戶外_N 散步_V', 'walks in the open air\\t在_P 戶外_N 散步_V', 'walks in the open air\\t在_P 戶外_N 散步_V', 'walks in the open air\\t在_P 戶外_N 散步_V', 'lack in fine manners they\\t在_P 生育期_N 缺乏_V', 'lack in fine manners they\\t在_P 生育期_N 缺乏_V', 'lack in fine manners they\\t在_P 生育期_N 缺乏_V', 'lack in fine manners they\\t在_P 生育期_N 缺乏_V', 'lack in fine manners they\\t在_P 生育期_N 缺乏_V', 'lack in fine manners they\\t在_P 生育期_N 缺乏_V', 'lack in fine manners they\\t在_P 生育期_N 缺乏_V', 'lack in fine manners they\\t在_P 生育期_N 缺乏_V', 'make up to a women\\t對_P 女人_N 好_V', 'make up to a women\\t對_P 女人_N 好_V', 'make up to a women\\t對_P 女人_N 好_V', 'make up to a women\\t對_P 女人_N 好_V', 'make up to a women\\t對_P 女人_N 好_V', 'make up to a women\\t對_P 女人_N 好_V', 'make up to a women\\t對_P 女人_N 好_V', 'make up to a women\\t對_P 女人_N 好_V', 'nod off in the office\\t在_P 辦公室_N 欲_V', 'nod off in the office\\t在_P 辦公室_N 欲_V', 'nod off in the office\\t在_P 辦公室_N 欲_V', 'nod off in the office\\t在_P 辦公室_N 欲_V', 'nod off in the office\\t在_P 辦公室_N 欲_V', 'nod off in the office\\t在_P 辦公室_N 欲_V', 'nod off in the office\\t在_P 辦公室_N 欲_V', 'nod off in the office\\t在_P 辦公室_N 欲_V', 'act on desire\\t根據_P 慾望_N 行事_V', 'act on desire\\t根據_P 慾望_N 行事_V', 'act on desire\\t根據_P 慾望_N 行事_V', 'act on desire\\t根據_P 慾望_N 行事_V', 'act on desire\\t根據_P 慾望_N 行事_V', 'act on desire\\t根據_P 慾望_N 行事_V', 'act on desire\\t根據_P 慾望_N 行事_V', 'act on desire\\t根據_P 慾望_N 行事_V', 'interacts with the system\\t與_P 系統_N 互動_V', 'interacts with the system\\t與_P 系統_N 互動_V', 'interacts with the system\\t與_P 系統_N 互動_V', 'interacts with the system\\t與_P 系統_N 互動_V', 'interacts with the system\\t與_P 系統_N 互動_V', 'interacts with the system\\t與_P 系統_N 互動_V', 'interacts with the system\\t與_P 系統_N 互動_V', 'interacts with the system\\t與_P 系統_N 互動_V', 'see to it\\t把_P 自己_N 看作_V', 'see to it\\t把_P 自己_N 看作_V', 'see to it\\t把_P 自己_N 看作_V', 'see to it\\t把_P 自己_N 看作_V', 'see to it\\t把_P 自己_N 看作_V', 'see to it\\t把_P 自己_N 看作_V', 'see to it\\t把_P 自己_N 看作_V', 'see to it\\t把_P 自己_N 看作_V', 'write in the morning\\t在_P 早晨_N 寫作_V', 'write in the morning\\t在_P 早晨_N 寫作_V', 'write in the morning\\t在_P 早晨_N 寫作_V', 'write in the morning\\t在_P 早晨_N 寫作_V', 'write in the morning\\t在_P 早晨_N 寫作_V', 'write in the morning\\t在_P 早晨_N 寫作_V', 'write in the morning\\t在_P 早晨_N 寫作_V', 'write in the morning\\t在_P 早晨_N 寫作_V', 'play in the basement\\t在_P 地下室_N 玩耍_V', 'play in the basement\\t在_P 地下室_N 玩耍_V', 'play in the basement\\t在_P 地下室_N 玩耍_V', 'play in the basement\\t在_P 地下室_N 玩耍_V', 'play in the basement\\t在_P 地下室_N 玩耍_V', 'play in the basement\\t在_P 地下室_N 玩耍_V', 'play in the basement\\t在_P 地下室_N 玩耍_V', 'play in the basement\\t在_P 地下室_N 玩耍_V', 'swear in the space\\t在_P 空間_N 站_V', 'swear in the space\\t在_P 空間_N 站_V', 'swear in the space\\t在_P 空間_N 站_V', 'swear in the space\\t在_P 空間_N 站_V', 'swear in the space\\t在_P 空間_N 站_V', 'swear in the space\\t在_P 空間_N 站_V', 'swear in the space\\t在_P 空間_N 站_V', 'swear in the space\\t在_P 空間_N 站_V', 'praying for others\\t為_P 他人_N 祈禱_V', 'praying for others\\t為_P 他人_N 祈禱_V', 'praying for others\\t為_P 他人_N 祈禱_V', 'praying for others\\t為_P 他人_N 祈禱_V', 'praying for others\\t為_P 他人_N 祈禱_V', 'praying for others\\t為_P 他人_N 祈禱_V', 'praying for others\\t為_P 他人_N 祈禱_V', 'praying for others\\t為_P 他人_N 祈禱_V', 'was held for the benefit\\t為_P 災民_N 舉辦_V', 'was held for the benefit\\t為_P 災民_N 舉辦_V', 'was held for the benefit\\t為_P 災民_N 舉辦_V', 'was held for the benefit\\t為_P 災民_N 舉辦_V', 'was held for the benefit\\t為_P 災民_N 舉辦_V', 'was held for the benefit\\t為_P 災民_N 舉辦_V', 'was held for the benefit\\t為_P 災民_N 舉辦_V', 'was held for the benefit\\t為_P 災民_N 舉辦_V', 'is destined for export\\t以_P 出口_N 為主_V', 'is destined for export\\t以_P 出口_N 為主_V', 'is destined for export\\t以_P 出口_N 為主_V', 'is destined for export\\t以_P 出口_N 為主_V', 'is destined for export\\t以_P 出口_N 為主_V', 'is destined for export\\t以_P 出口_N 為主_V', 'is destined for export\\t以_P 出口_N 為主_V', 'is destined for export\\t以_P 出口_N 為主_V', 'stayed on in Cambridge\\t在_P 劍橋_N 呆_V', 'stayed on in Cambridge\\t在_P 劍橋_N 呆_V', 'stayed on in Cambridge\\t在_P 劍橋_N 呆_V', 'stayed on in Cambridge\\t在_P 劍橋_N 呆_V', 'stayed on in Cambridge\\t在_P 劍橋_N 呆_V', 'stayed on in Cambridge\\t在_P 劍橋_N 呆_V', 'stayed on in Cambridge\\t在_P 劍橋_N 呆_V', 'stayed on in Cambridge\\t在_P 劍橋_N 呆_V', 'talked to the police\\t向_P 警察_N 舉報_V', 'talked to the police\\t向_P 警察_N 舉報_V', 'talked to the police\\t向_P 警察_N 舉報_V', 'talked to the police\\t向_P 警察_N 舉報_V', 'talked to the police\\t向_P 警察_N 舉報_V', 'talked to the police\\t向_P 警察_N 舉報_V', 'talked to the police\\t向_P 警察_N 舉報_V', 'talked to the police\\t向_P 警察_N 舉報_V', 'work with the police\\t被_P 警方_N 使用_V', 'work with the police\\t被_P 警方_N 使用_V', 'work with the police\\t被_P 警方_N 使用_V', 'work with the police\\t被_P 警方_N 使用_V', 'work with the police\\t被_P 警方_N 使用_V', 'work with the police\\t被_P 警方_N 使用_V', 'work with the police\\t被_P 警方_N 使用_V', 'work with the police\\t被_P 警方_N 使用_V', 'automatically based on bin tree\\t基於_P 等高線_N 自動_V', 'automatically based on bin tree\\t基於_P 等高線_N 自動_V', 'automatically based on bin tree\\t基於_P 等高線_N 自動_V', 'automatically based on bin tree\\t基於_P 等高線_N 自動_V', 'automatically based on bin tree\\t基於_P 等高線_N 自動_V', 'automatically based on bin tree\\t基於_P 等高線_N 自動_V', 'automatically based on bin tree\\t基於_P 等高線_N 自動_V', 'automatically based on bin tree\\t基於_P 等高線_N 自動_V', 'said to the people\\t對_P 百姓_N 說_V', 'said to the people\\t對_P 百姓_N 說_V', 'said to the people\\t對_P 百姓_N 說_V', 'said to the people\\t對_P 百姓_N 說_V', 'said to the people\\t對_P 百姓_N 說_V', 'said to the people\\t對_P 百姓_N 說_V', 'said to the people\\t對_P 百姓_N 說_V', 'said to the people\\t對_P 百姓_N 說_V', 'paid in proportion\\t按_P 工時數_N 付給_V', 'paid in proportion\\t按_P 工時數_N 付給_V', 'paid in proportion\\t按_P 工時數_N 付給_V', 'paid in proportion\\t按_P 工時數_N 付給_V', 'paid in proportion\\t按_P 工時數_N 付給_V', 'paid in proportion\\t按_P 工時數_N 付給_V', 'paid in proportion\\t按_P 工時數_N 付給_V', 'paid in proportion\\t按_P 工時數_N 付給_V', 'said to them\\t對_P 他們_N 說_V', 'said to them\\t對_P 他們_N 說_V', 'said to them\\t對_P 他們_N 說_V', 'said to them\\t對_P 他們_N 說_V', 'said to them\\t對_P 他們_N 說_V', 'said to them\\t對_P 他們_N 說_V', 'said to them\\t對_P 他們_N 說_V', 'said to them\\t對_P 他們_N 說_V', 'bought in china\\t在_P 中國_N 買_V', 'bought in china\\t在_P 中國_N 買_V', 'bought in china\\t在_P 中國_N 買_V', 'bought in china\\t在_P 中國_N 買_V', 'bought in china\\t在_P 中國_N 買_V', 'bought in china\\t在_P 中國_N 買_V', 'bought in china\\t在_P 中國_N 買_V', 'bought in china\\t在_P 中國_N 買_V', 'buy in China\\t在_P 中國_N 買_V', 'buy in China\\t在_P 中國_N 買_V', 'buy in China\\t在_P 中國_N 買_V', 'buy in China\\t在_P 中國_N 買_V', 'buy in China\\t在_P 中國_N 買_V', 'buy in China\\t在_P 中國_N 買_V', 'buy in China\\t在_P 中國_N 買_V', 'buy in China\\t在_P 中國_N 買_V', 'meet with the representative\\t跟_P 代表_N 見面_V', 'meet with the representative\\t跟_P 代表_N 見面_V', 'meet with the representative\\t跟_P 代表_N 見面_V', 'meet with the representative\\t跟_P 代表_N 見面_V', 'meet with the representative\\t跟_P 代表_N 見面_V', 'meet with the representative\\t跟_P 代表_N 見面_V', 'meet with the representative\\t跟_P 代表_N 見面_V', 'meet with the representative\\t跟_P 代表_N 見面_V', 'meet with the representative\\t跟_P 代表_N 見面_V', 'meet with the representative\\t跟_P 代表_N 見面_V', 'meet with the representative\\t跟_P 代表_N 見面_V', 'meet with the representative\\t跟_P 代表_N 見面_V', 'meet with the representative\\t跟_P 代表_N 見面_V', 'meet with the representative\\t跟_P 代表_N 見面_V', 'meet with the representative\\t跟_P 代表_N 見面_V', 'meet with the representative\\t跟_P 代表_N 見面_V', 'discuss with you\\t同_P 你_N 商量_V', 'discuss with you\\t同_P 你_N 商量_V', 'discuss with you\\t同_P 你_N 商量_V', 'discuss with you\\t同_P 你_N 商量_V', 'discuss with you\\t同_P 你_N 商量_V', 'discuss with you\\t同_P 你_N 商量_V', 'discuss with you\\t同_P 你_N 商量_V', 'discuss with you\\t同_P 你_N 商量_V', 'found in it\\t在_P 它_N 發現_V', 'found in it\\t在_P 它_N 發現_V', 'found in it\\t在_P 它_N 發現_V', 'found in it\\t在_P 它_N 發現_V', 'found in it\\t在_P 它_N 發現_V', 'found in it\\t在_P 它_N 發現_V', 'found in it\\t在_P 它_N 發現_V', 'found in it\\t在_P 它_N 發現_V', 'go with the army\\t隨_P 軍_N 去_V', 'go with the army\\t隨_P 軍_N 去_V', 'go with the army\\t隨_P 軍_N 去_V', 'go with the army\\t隨_P 軍_N 去_V', 'go with the army\\t隨_P 軍_N 去_V', 'go with the army\\t隨_P 軍_N 去_V', 'go with the army\\t隨_P 軍_N 去_V', 'go with the army\\t隨_P 軍_N 去_V', 'eat in the night market\\t在_P 夜市_N 吃_V', 'eat in the night market\\t在_P 夜市_N 吃_V', 'eat in the night market\\t在_P 夜市_N 吃_V', 'eat in the night market\\t在_P 夜市_N 吃_V', 'eat in the night market\\t在_P 夜市_N 吃_V', 'eat in the night market\\t在_P 夜市_N 吃_V', 'eat in the night market\\t在_P 夜市_N 吃_V', 'eat in the night market\\t在_P 夜市_N 吃_V', 'grew up in the country\\t在_P 鄉村_N 長大_V', 'grew up in the country\\t在_P 鄉村_N 長大_V', 'grew up in the country\\t在_P 鄉村_N 長大_V', 'grew up in the country\\t在_P 鄉村_N 長大_V', 'grew up in the country\\t在_P 鄉村_N 長大_V', 'grew up in the country\\t在_P 鄉村_N 長大_V', 'grew up in the country\\t在_P 鄉村_N 長大_V', 'grew up in the country\\t在_P 鄉村_N 長大_V', 'appealing to the justice\\t向_P 法官_N 上訴_V', 'appealing to the justice\\t向_P 法官_N 上訴_V', 'appealing to the justice\\t向_P 法官_N 上訴_V', 'appealing to the justice\\t向_P 法官_N 上訴_V', 'appealing to the justice\\t向_P 法官_N 上訴_V', 'appealing to the justice\\t向_P 法官_N 上訴_V', 'appealing to the justice\\t向_P 法官_N 上訴_V', 'appealing to the justice\\t向_P 法官_N 上訴_V', 'settle down in the country\\t在_P 鄉間_N 安頓下來_V', 'settle down in the country\\t在_P 鄉間_N 安頓下來_V', 'settle down in the country\\t在_P 鄉間_N 安頓下來_V', 'settle down in the country\\t在_P 鄉間_N 安頓下來_V', 'settle down in the country\\t在_P 鄉間_N 安頓下來_V', 'settle down in the country\\t在_P 鄉間_N 安頓下來_V', 'settle down in the country\\t在_P 鄉間_N 安頓下來_V', 'settle down in the country\\t在_P 鄉間_N 安頓下來_V', 'lives in London\\t在_P 倫敦_N 住_V', 'lives in London\\t在_P 倫敦_N 住_V', 'lives in London\\t在_P 倫敦_N 住_V', 'lives in London\\t在_P 倫敦_N 住_V', 'lives in London\\t在_P 倫敦_N 住_V', 'lives in London\\t在_P 倫敦_N 住_V', 'lives in London\\t在_P 倫敦_N 住_V', 'lives in London\\t在_P 倫敦_N 住_V', 'was born in Sweden\\t在_P 瑞典_N 出生_V', 'was born in Sweden\\t在_P 瑞典_N 出生_V', 'was born in Sweden\\t在_P 瑞典_N 出生_V', 'was born in Sweden\\t在_P 瑞典_N 出生_V', 'was born in Sweden\\t在_P 瑞典_N 出生_V', 'was born in Sweden\\t在_P 瑞典_N 出生_V', 'was born in Sweden\\t在_P 瑞典_N 出生_V', 'was born in Sweden\\t在_P 瑞典_N 出生_V', 'soar with them\\t跟_P 它們_N 飛到_V', 'soar with them\\t跟_P 它們_N 飛到_V', 'soar with them\\t跟_P 它們_N 飛到_V', 'soar with them\\t跟_P 它們_N 飛到_V', 'soar with them\\t跟_P 它們_N 飛到_V', 'soar with them\\t跟_P 它們_N 飛到_V', 'soar with them\\t跟_P 它們_N 飛到_V', 'soar with them\\t跟_P 它們_N 飛到_V', 'hang out with him\\t跟_P 他_N 不佳_V', 'hang out with him\\t跟_P 他_N 不佳_V', 'hang out with him\\t跟_P 他_N 不佳_V', 'hang out with him\\t跟_P 他_N 不佳_V', 'hang out with him\\t跟_P 他_N 不佳_V', 'hang out with him\\t跟_P 他_N 不佳_V', 'hang out with him\\t跟_P 他_N 不佳_V', 'hang out with him\\t跟_P 他_N 不佳_V', 'work for us\\t為_P 我們_N 工作_V', 'work for us\\t為_P 我們_N 工作_V', 'work for us\\t為_P 我們_N 工作_V', 'work for us\\t為_P 我們_N 工作_V', 'work for us\\t為_P 我們_N 工作_V', 'work for us\\t為_P 我們_N 工作_V', 'work for us\\t為_P 我們_N 工作_V', 'work for us\\t為_P 我們_N 工作_V', 'was built in the tax free zone\\t在_P 免稅區_N 內建_V', 'was built in the tax free zone\\t在_P 免稅區_N 內建_V', 'was built in the tax free zone\\t在_P 免稅區_N 內建_V', 'was built in the tax free zone\\t在_P 免稅區_N 內建_V', 'was built in the tax free zone\\t在_P 免稅區_N 內建_V', 'was built in the tax free zone\\t在_P 免稅區_N 內建_V', 'was built in the tax free zone\\t在_P 免稅區_N 內建_V', 'was built in the tax free zone\\t在_P 免稅區_N 內建_V', 'said to her\\t對_P 婦人_N 說_V', 'said to her\\t對_P 婦人_N 說_V', 'said to her\\t對_P 婦人_N 說_V', 'said to her\\t對_P 婦人_N 說_V', 'said to her\\t對_P 婦人_N 說_V', 'said to her\\t對_P 婦人_N 說_V', 'said to her\\t對_P 婦人_N 說_V', 'said to her\\t對_P 婦人_N 說_V', 'said to him\\t對_P 他_N 說_V', 'said to him\\t對_P 他_N 說_V', 'said to him\\t對_P 他_N 說_V', 'said to him\\t對_P 他_N 說_V', 'said to him\\t對_P 他_N 說_V', 'said to him\\t對_P 他_N 說_V', 'said to him\\t對_P 他_N 說_V', 'said to him\\t對_P 他_N 說_V', 'said to Uriah\\t對_P 烏利亞_N 說_V', 'said to Uriah\\t對_P 烏利亞_N 說_V', 'said to Uriah\\t對_P 烏利亞_N 說_V', 'said to Uriah\\t對_P 烏利亞_N 說_V', 'said to Uriah\\t對_P 烏利亞_N 說_V', 'said to Uriah\\t對_P 烏利亞_N 說_V', 'said to Uriah\\t對_P 烏利亞_N 說_V', 'said to Uriah\\t對_P 烏利亞_N 說_V', 'said to Uriah\\t對_P 烏利亞_N 說_V', 'said to Uriah\\t對_P 烏利亞_N 說_V', 'said to Uriah\\t對_P 烏利亞_N 說_V', 'said to Uriah\\t對_P 烏利亞_N 說_V', 'said to Uriah\\t對_P 烏利亞_N 說_V', 'said to Uriah\\t對_P 烏利亞_N 說_V', 'said to Uriah\\t對_P 烏利亞_N 說_V', 'said to Uriah\\t對_P 烏利亞_N 說_V', 'live in the suburbs\\t在_P 郊區_N 住_V', 'live in the suburbs\\t在_P 郊區_N 住_V', 'live in the suburbs\\t在_P 郊區_N 住_V', 'live in the suburbs\\t在_P 郊區_N 住_V', 'live in the suburbs\\t在_P 郊區_N 住_V', 'live in the suburbs\\t在_P 郊區_N 住_V', 'live in the suburbs\\t在_P 郊區_N 住_V', 'live in the suburbs\\t在_P 郊區_N 住_V', 'said to God\\t對_P 神_N 說_V', 'said to God\\t對_P 神_N 說_V', 'said to God\\t對_P 神_N 說_V', 'said to God\\t對_P 神_N 說_V', 'said to God\\t對_P 神_N 說_V', 'said to God\\t對_P 神_N 說_V', 'said to God\\t對_P 神_N 說_V', 'said to God\\t對_P 神_N 說_V', 'walked in a desert\\t在_P 沙漠_N 行走_V', 'walked in a desert\\t在_P 沙漠_N 行走_V', 'walked in a desert\\t在_P 沙漠_N 行走_V', 'walked in a desert\\t在_P 沙漠_N 行走_V', 'walked in a desert\\t在_P 沙漠_N 行走_V', 'walked in a desert\\t在_P 沙漠_N 行走_V', 'walked in a desert\\t在_P 沙漠_N 行走_V', 'walked in a desert\\t在_P 沙漠_N 行走_V', 'know about it\\t對_P 它_N 瞭解_V', 'know about it\\t對_P 它_N 瞭解_V', 'know about it\\t對_P 它_N 瞭解_V', 'know about it\\t對_P 它_N 瞭解_V', 'know about it\\t對_P 它_N 瞭解_V', 'know about it\\t對_P 它_N 瞭解_V', 'know about it\\t對_P 它_N 瞭解_V', 'know about it\\t對_P 它_N 瞭解_V', 'talk to them\\t跟_P 他們_N 攀談_V', 'talk to them\\t跟_P 他們_N 攀談_V', 'talk to them\\t跟_P 他們_N 攀談_V', 'talk to them\\t跟_P 他們_N 攀談_V', 'talk to them\\t跟_P 他們_N 攀談_V', 'talk to them\\t跟_P 他們_N 攀談_V', 'talk to them\\t跟_P 他們_N 攀談_V', 'talk to them\\t跟_P 他們_N 攀談_V', 'false to him\\t對_P 他_N 失信_V', 'false to him\\t對_P 他_N 失信_V', 'false to him\\t對_P 他_N 失信_V', 'false to him\\t對_P 他_N 失信_V', 'false to him\\t對_P 他_N 失信_V', 'false to him\\t對_P 他_N 失信_V', 'false to him\\t對_P 他_N 失信_V', 'false to him\\t對_P 他_N 失信_V', 'stay in the hospital\\t在_P 醫院_N 住_V', 'stay in the hospital\\t在_P 醫院_N 住_V', 'stay in the hospital\\t在_P 醫院_N 住_V', 'stay in the hospital\\t在_P 醫院_N 住_V', 'stay in the hospital\\t在_P 醫院_N 住_V', 'stay in the hospital\\t在_P 醫院_N 住_V', 'stay in the hospital\\t在_P 醫院_N 住_V', 'stay in the hospital\\t在_P 醫院_N 住_V', 'returned to them\\t把_P 它們_N 還給_V', 'returned to them\\t把_P 它們_N 還給_V', 'returned to them\\t把_P 它們_N 還給_V', 'returned to them\\t把_P 它們_N 還給_V', 'returned to them\\t把_P 它們_N 還給_V', 'returned to them\\t把_P 它們_N 還給_V', 'returned to them\\t把_P 它們_N 還給_V', 'returned to them\\t把_P 它們_N 還給_V', 'rapped to me\\t向_P 我_N 理睬_V', 'rapped to me\\t向_P 我_N 理睬_V', 'rapped to me\\t向_P 我_N 理睬_V', 'rapped to me\\t向_P 我_N 理睬_V', 'rapped to me\\t向_P 我_N 理睬_V', 'rapped to me\\t向_P 我_N 理睬_V', 'rapped to me\\t向_P 我_N 理睬_V', 'rapped to me\\t向_P 我_N 理睬_V', 'rude to him\\t對_P 他_N 粗魯_V', 'rude to him\\t對_P 他_N 粗魯_V', 'rude to him\\t對_P 他_N 粗魯_V', 'rude to him\\t對_P 他_N 粗魯_V', 'rude to him\\t對_P 他_N 粗魯_V', 'rude to him\\t對_P 他_N 粗魯_V', 'rude to him\\t對_P 他_N 粗魯_V', 'rude to him\\t對_P 他_N 粗魯_V', 'rude to him\\t對_P 他_N 粗魯_V', 'rude to him\\t對_P 他_N 粗魯_V', 'rude to him\\t對_P 他_N 粗魯_V', 'rude to him\\t對_P 他_N 粗魯_V', 'rude to him\\t對_P 他_N 粗魯_V', 'rude to him\\t對_P 他_N 粗魯_V', 'rude to him\\t對_P 他_N 粗魯_V', 'rude to him\\t對_P 他_N 粗魯_V', 'work for myself\\t為_P 自己_N 幹_V', 'work for myself\\t為_P 自己_N 幹_V', 'work for myself\\t為_P 自己_N 幹_V', 'work for myself\\t為_P 自己_N 幹_V', 'work for myself\\t為_P 自己_N 幹_V', 'work for myself\\t為_P 自己_N 幹_V', 'work for myself\\t為_P 自己_N 幹_V', 'work for myself\\t為_P 自己_N 幹_V', 'done in the hospital\\t在_P 醫院_N 做_V', 'done in the hospital\\t在_P 醫院_N 做_V', 'done in the hospital\\t在_P 醫院_N 做_V', 'done in the hospital\\t在_P 醫院_N 做_V', 'done in the hospital\\t在_P 醫院_N 做_V', 'done in the hospital\\t在_P 醫院_N 做_V', 'done in the hospital\\t在_P 醫院_N 做_V', 'done in the hospital\\t在_P 醫院_N 做_V', 'going with me\\t跟_P 我_N 走_V', 'going with me\\t跟_P 我_N 走_V', 'going with me\\t跟_P 我_N 走_V', 'going with me\\t跟_P 我_N 走_V', 'going with me\\t跟_P 我_N 走_V', 'going with me\\t跟_P 我_N 走_V', 'going with me\\t跟_P 我_N 走_V', 'going with me\\t跟_P 我_N 走_V', 'traveling in a foreign country\\t在_P 國外_N 旅行_V', 'traveling in a foreign country\\t在_P 國外_N 旅行_V', 'traveling in a foreign country\\t在_P 國外_N 旅行_V', 'traveling in a foreign country\\t在_P 國外_N 旅行_V', 'traveling in a foreign country\\t在_P 國外_N 旅行_V', 'traveling in a foreign country\\t在_P 國外_N 旅行_V', 'traveling in a foreign country\\t在_P 國外_N 旅行_V', 'traveling in a foreign country\\t在_P 國外_N 旅行_V', 'cooperating with you\\t與_P 你_N 合作_V', 'cooperating with you\\t與_P 你_N 合作_V', 'cooperating with you\\t與_P 你_N 合作_V', 'cooperating with you\\t與_P 你_N 合作_V', 'cooperating with you\\t與_P 你_N 合作_V', 'cooperating with you\\t與_P 你_N 合作_V', 'cooperating with you\\t與_P 你_N 合作_V', 'cooperating with you\\t與_P 你_N 合作_V', 'traveling in summer\\t在_P 夏天_N 旅遊_V', 'traveling in summer\\t在_P 夏天_N 旅遊_V', 'traveling in summer\\t在_P 夏天_N 旅遊_V', 'traveling in summer\\t在_P 夏天_N 旅遊_V', 'traveling in summer\\t在_P 夏天_N 旅遊_V', 'traveling in summer\\t在_P 夏天_N 旅遊_V', 'traveling in summer\\t在_P 夏天_N 旅遊_V', 'traveling in summer\\t在_P 夏天_N 旅遊_V', \"learn about Devil 's snare\\t在_P 草藥_N 學習_V\", \"learn about Devil 's snare\\t在_P 草藥_N 學習_V\", \"learn about Devil 's snare\\t在_P 草藥_N 學習_V\", \"learn about Devil 's snare\\t在_P 草藥_N 學習_V\", \"learn about Devil 's snare\\t在_P 草藥_N 學習_V\", \"learn about Devil 's snare\\t在_P 草藥_N 學習_V\", \"learn about Devil 's snare\\t在_P 草藥_N 學習_V\", \"learn about Devil 's snare\\t在_P 草藥_N 學習_V\", 'apply to bombs\\t於_P 原子彈_N 適用_V', 'apply to bombs\\t於_P 原子彈_N 適用_V', 'apply to bombs\\t於_P 原子彈_N 適用_V', 'apply to bombs\\t於_P 原子彈_N 適用_V', 'apply to bombs\\t於_P 原子彈_N 適用_V', 'apply to bombs\\t於_P 原子彈_N 適用_V', 'apply to bombs\\t於_P 原子彈_N 適用_V', 'apply to bombs\\t於_P 原子彈_N 適用_V', 'confirmed on Monday\\t在_P 星期一_N 確認_V', 'confirmed on Monday\\t在_P 星期一_N 確認_V', 'confirmed on Monday\\t在_P 星期一_N 確認_V', 'confirmed on Monday\\t在_P 星期一_N 確認_V', 'confirmed on Monday\\t在_P 星期一_N 確認_V', 'confirmed on Monday\\t在_P 星期一_N 確認_V', 'confirmed on Monday\\t在_P 星期一_N 確認_V', 'confirmed on Monday\\t在_P 星期一_N 確認_V', 'died in Rome\\t於_P 羅馬_N 逝世_V', 'died in Rome\\t於_P 羅馬_N 逝世_V', 'died in Rome\\t於_P 羅馬_N 逝世_V', 'died in Rome\\t於_P 羅馬_N 逝世_V', 'died in Rome\\t於_P 羅馬_N 逝世_V', 'died in Rome\\t於_P 羅馬_N 逝世_V', 'died in Rome\\t於_P 羅馬_N 逝世_V', 'died in Rome\\t於_P 羅馬_N 逝世_V', 'share with you\\t與_P 大家_N 分享_V', 'share with you\\t與_P 大家_N 分享_V', 'share with you\\t與_P 大家_N 分享_V', 'share with you\\t與_P 大家_N 分享_V', 'share with you\\t與_P 大家_N 分享_V', 'share with you\\t與_P 大家_N 分享_V', 'share with you\\t與_P 大家_N 分享_V', 'share with you\\t與_P 大家_N 分享_V', 'dance with you\\t和_P 你_N 跳舞_V', 'dance with you\\t和_P 你_N 跳舞_V', 'dance with you\\t和_P 你_N 跳舞_V', 'dance with you\\t和_P 你_N 跳舞_V', 'dance with you\\t和_P 你_N 跳舞_V', 'dance with you\\t和_P 你_N 跳舞_V', 'dance with you\\t和_P 你_N 跳舞_V', 'dance with you\\t和_P 你_N 跳舞_V', 'talking to a clerk\\t與_P 店員_N 討論_V', 'talking to a clerk\\t與_P 店員_N 討論_V', 'talking to a clerk\\t與_P 店員_N 討論_V', 'talking to a clerk\\t與_P 店員_N 討論_V', 'talking to a clerk\\t與_P 店員_N 討論_V', 'talking to a clerk\\t與_P 店員_N 討論_V', 'talking to a clerk\\t與_P 店員_N 討論_V', 'talking to a clerk\\t與_P 店員_N 討論_V', 'working for myself\\t為_P 自己_N 工作_V', 'working for myself\\t為_P 自己_N 工作_V', 'working for myself\\t為_P 自己_N 工作_V', 'working for myself\\t為_P 自己_N 工作_V', 'working for myself\\t為_P 自己_N 工作_V', 'working for myself\\t為_P 自己_N 工作_V', 'working for myself\\t為_P 自己_N 工作_V', 'working for myself\\t為_P 自己_N 工作_V', 'talk with him\\t和_P 他_N 說話_V', 'talk with him\\t和_P 他_N 說話_V', 'talk with him\\t和_P 他_N 說話_V', 'talk with him\\t和_P 他_N 說話_V', 'talk with him\\t和_P 他_N 說話_V', 'talk with him\\t和_P 他_N 說話_V', 'talk with him\\t和_P 他_N 說話_V', 'talk with him\\t和_P 他_N 說話_V', 'was born in the country\\t在_P 鄉下_N 出生_V', 'was born in the country\\t在_P 鄉下_N 出生_V', 'was born in the country\\t在_P 鄉下_N 出生_V', 'was born in the country\\t在_P 鄉下_N 出生_V', 'was born in the country\\t在_P 鄉下_N 出生_V', 'was born in the country\\t在_P 鄉下_N 出生_V', 'was born in the country\\t在_P 鄉下_N 出生_V', 'was born in the country\\t在_P 鄉下_N 出生_V', 'convey to her\\t向_P 她_N 表達_V', 'convey to her\\t向_P 她_N 表達_V', 'convey to her\\t向_P 她_N 表達_V', 'convey to her\\t向_P 她_N 表達_V', 'convey to her\\t向_P 她_N 表達_V', 'convey to her\\t向_P 她_N 表達_V', 'convey to her\\t向_P 她_N 表達_V', 'convey to her\\t向_P 她_N 表達_V', 'was born in Germany\\t在_P 德國_N 出生_V', 'was born in Germany\\t在_P 德國_N 出生_V', 'was born in Germany\\t在_P 德國_N 出生_V', 'was born in Germany\\t在_P 德國_N 出生_V', 'was born in Germany\\t在_P 德國_N 出生_V', 'was born in Germany\\t在_P 德國_N 出生_V', 'was born in Germany\\t在_P 德國_N 出生_V', 'was born in Germany\\t在_P 德國_N 出生_V', 'work for a landlord\\t為_P 地主_N 幹活_V', 'work for a landlord\\t為_P 地主_N 幹活_V', 'work for a landlord\\t為_P 地主_N 幹活_V', 'work for a landlord\\t為_P 地主_N 幹活_V', 'work for a landlord\\t為_P 地主_N 幹活_V', 'work for a landlord\\t為_P 地主_N 幹活_V', 'work for a landlord\\t為_P 地主_N 幹活_V', 'work for a landlord\\t為_P 地主_N 幹活_V', 'grew up in Spain\\t在_P 西班牙_N 長大_V', 'grew up in Spain\\t在_P 西班牙_N 長大_V', 'grew up in Spain\\t在_P 西班牙_N 長大_V', 'grew up in Spain\\t在_P 西班牙_N 長大_V', 'grew up in Spain\\t在_P 西班牙_N 長大_V', 'grew up in Spain\\t在_P 西班牙_N 長大_V', 'grew up in Spain\\t在_P 西班牙_N 長大_V', 'grew up in Spain\\t在_P 西班牙_N 長大_V', 'revealed to the child\\t向_P 孩子_N 透露_V', 'revealed to the child\\t向_P 孩子_N 透露_V', 'revealed to the child\\t向_P 孩子_N 透露_V', 'revealed to the child\\t向_P 孩子_N 透露_V', 'revealed to the child\\t向_P 孩子_N 透露_V', 'revealed to the child\\t向_P 孩子_N 透露_V', 'revealed to the child\\t向_P 孩子_N 透露_V', 'revealed to the child\\t向_P 孩子_N 透露_V', 'returns to the England team\\t在_P 英格蘭隊_N 離開_V', 'returns to the England team\\t在_P 英格蘭隊_N 離開_V', 'returns to the England team\\t在_P 英格蘭隊_N 離開_V', 'returns to the England team\\t在_P 英格蘭隊_N 離開_V', 'returns to the England team\\t在_P 英格蘭隊_N 離開_V', 'returns to the England team\\t在_P 英格蘭隊_N 離開_V', 'returns to the England team\\t在_P 英格蘭隊_N 離開_V', 'returns to the England team\\t在_P 英格蘭隊_N 離開_V', 'has now been discovered in India\\t在_P 印度_N 發現_V', 'has now been discovered in India\\t在_P 印度_N 發現_V', 'has now been discovered in India\\t在_P 印度_N 發現_V', 'has now been discovered in India\\t在_P 印度_N 發現_V', 'has now been discovered in India\\t在_P 印度_N 發現_V', 'has now been discovered in India\\t在_P 印度_N 發現_V', 'has now been discovered in India\\t在_P 印度_N 發現_V', 'has now been discovered in India\\t在_P 印度_N 發現_V', 'happens in knee joints\\t於_P 膝關節_N 發生_V', 'happens in knee joints\\t於_P 膝關節_N 發生_V', 'happens in knee joints\\t於_P 膝關節_N 發生_V', 'happens in knee joints\\t於_P 膝關節_N 發生_V', 'happens in knee joints\\t於_P 膝關節_N 發生_V', 'happens in knee joints\\t於_P 膝關節_N 發生_V', 'happens in knee joints\\t於_P 膝關節_N 發生_V', 'happens in knee joints\\t於_P 膝關節_N 發生_V', 'pray with you\\t同_P 你_N 求籤_V', 'pray with you\\t同_P 你_N 求籤_V', 'pray with you\\t同_P 你_N 求籤_V', 'pray with you\\t同_P 你_N 求籤_V', 'pray with you\\t同_P 你_N 求籤_V', 'pray with you\\t同_P 你_N 求籤_V', 'pray with you\\t同_P 你_N 求籤_V', 'pray with you\\t同_P 你_N 求籤_V', 'screwed on the wall\\t在_P 牆_N 拆掉_V', 'screwed on the wall\\t在_P 牆_N 拆掉_V', 'screwed on the wall\\t在_P 牆_N 拆掉_V', 'screwed on the wall\\t在_P 牆_N 拆掉_V', 'screwed on the wall\\t在_P 牆_N 拆掉_V', 'screwed on the wall\\t在_P 牆_N 拆掉_V', 'screwed on the wall\\t在_P 牆_N 拆掉_V', 'screwed on the wall\\t在_P 牆_N 拆掉_V', 'meet with the representative\\t跟_P 代表_N 見面_V', 'meet with the representative\\t跟_P 代表_N 見面_V', 'meet with the representative\\t跟_P 代表_N 見面_V', 'meet with the representative\\t跟_P 代表_N 見面_V', 'meet with the representative\\t跟_P 代表_N 見面_V', 'meet with the representative\\t跟_P 代表_N 見面_V', 'meet with the representative\\t跟_P 代表_N 見面_V', 'meet with the representative\\t跟_P 代表_N 見面_V', 'apologizing for America\\t為_P 美國_N 道歉_V', 'apologizing for America\\t為_P 美國_N 道歉_V', 'apologizing for America\\t為_P 美國_N 道歉_V', 'apologizing for America\\t為_P 美國_N 道歉_V', 'apologizing for America\\t為_P 美國_N 道歉_V', 'apologizing for America\\t為_P 美國_N 道歉_V', 'apologizing for America\\t為_P 美國_N 道歉_V', 'apologizing for America\\t為_P 美國_N 道歉_V', 'apologizing for America\\t為_P 美國_N 道歉_V', 'apologizing for America\\t為_P 美國_N 道歉_V', 'apologizing for America\\t為_P 美國_N 道歉_V', 'apologizing for America\\t為_P 美國_N 道歉_V', 'apologizing for America\\t為_P 美國_N 道歉_V', 'apologizing for America\\t為_P 美國_N 道歉_V', 'apologizing for America\\t為_P 美國_N 道歉_V', 'apologizing for America\\t為_P 美國_N 道歉_V', 'was born in Sweden\\t在_P 瑞典_N 出生_V', 'was born in Sweden\\t在_P 瑞典_N 出生_V', 'was born in Sweden\\t在_P 瑞典_N 出生_V', 'was born in Sweden\\t在_P 瑞典_N 出生_V', 'was born in Sweden\\t在_P 瑞典_N 出生_V', 'was born in Sweden\\t在_P 瑞典_N 出生_V', 'was born in Sweden\\t在_P 瑞典_N 出生_V', 'was born in Sweden\\t在_P 瑞典_N 出生_V', 'live in Alaska\\t在_P 阿拉斯加_N 定居_V', 'live in Alaska\\t在_P 阿拉斯加_N 定居_V', 'live in Alaska\\t在_P 阿拉斯加_N 定居_V', 'live in Alaska\\t在_P 阿拉斯加_N 定居_V', 'live in Alaska\\t在_P 阿拉斯加_N 定居_V', 'live in Alaska\\t在_P 阿拉斯加_N 定居_V', 'live in Alaska\\t在_P 阿拉斯加_N 定居_V', 'live in Alaska\\t在_P 阿拉斯加_N 定居_V', 'looked in the almanac\\t在_P 編年史_N 尋找_V', 'looked in the almanac\\t在_P 編年史_N 尋找_V', 'looked in the almanac\\t在_P 編年史_N 尋找_V', 'looked in the almanac\\t在_P 編年史_N 尋找_V', 'looked in the almanac\\t在_P 編年史_N 尋找_V', 'looked in the almanac\\t在_P 編年史_N 尋找_V', 'looked in the almanac\\t在_P 編年史_N 尋找_V', 'looked in the almanac\\t在_P 編年史_N 尋找_V', 'wake up in Harbin\\t在_P 哈爾濱_N 起床_V', 'wake up in Harbin\\t在_P 哈爾濱_N 起床_V', 'wake up in Harbin\\t在_P 哈爾濱_N 起床_V', 'wake up in Harbin\\t在_P 哈爾濱_N 起床_V', 'wake up in Harbin\\t在_P 哈爾濱_N 起床_V', 'wake up in Harbin\\t在_P 哈爾濱_N 起床_V', 'wake up in Harbin\\t在_P 哈爾濱_N 起床_V', 'wake up in Harbin\\t在_P 哈爾濱_N 起床_V', 'said to himself\\t對_P 自己_N 說_V', 'said to himself\\t對_P 自己_N 說_V', 'said to himself\\t對_P 自己_N 說_V', 'said to himself\\t對_P 自己_N 說_V', 'said to himself\\t對_P 自己_N 說_V', 'said to himself\\t對_P 自己_N 說_V', 'said to himself\\t對_P 自己_N 說_V', 'said to himself\\t對_P 自己_N 說_V', 'get to London\\t到_P 倫敦_N 湊合_V', 'get to London\\t到_P 倫敦_N 湊合_V', 'get to London\\t到_P 倫敦_N 湊合_V', 'get to London\\t到_P 倫敦_N 湊合_V', 'get to London\\t到_P 倫敦_N 湊合_V', 'get to London\\t到_P 倫敦_N 湊合_V', 'get to London\\t到_P 倫敦_N 湊合_V', 'get to London\\t到_P 倫敦_N 湊合_V', 'joke with him\\t跟_P 他_N 開玩笑_V', 'joke with him\\t跟_P 他_N 開玩笑_V', 'joke with him\\t跟_P 他_N 開玩笑_V', 'joke with him\\t跟_P 他_N 開玩笑_V', 'joke with him\\t跟_P 他_N 開玩笑_V', 'joke with him\\t跟_P 他_N 開玩笑_V', 'joke with him\\t跟_P 他_N 開玩笑_V', 'joke with him\\t跟_P 他_N 開玩笑_V', 'travel in the autumn\\t在_P 秋季_N 旅行_V', 'travel in the autumn\\t在_P 秋季_N 旅行_V', 'travel in the autumn\\t在_P 秋季_N 旅行_V', 'travel in the autumn\\t在_P 秋季_N 旅行_V', 'travel in the autumn\\t在_P 秋季_N 旅行_V', 'travel in the autumn\\t在_P 秋季_N 旅行_V', 'travel in the autumn\\t在_P 秋季_N 旅行_V', 'travel in the autumn\\t在_P 秋季_N 旅行_V', 'speak with us\\t和_P 我們_N 說_V', 'speak with us\\t和_P 我們_N 說_V', 'speak with us\\t和_P 我們_N 說_V', 'speak with us\\t和_P 我們_N 說_V', 'speak with us\\t和_P 我們_N 說_V', 'speak with us\\t和_P 我們_N 說_V', 'speak with us\\t和_P 我們_N 說_V', 'speak with us\\t和_P 我們_N 說_V', 'came over to us\\t朝_P 我們_N 位_V', 'came over to us\\t朝_P 我們_N 位_V', 'came over to us\\t朝_P 我們_N 位_V', 'came over to us\\t朝_P 我們_N 位_V', 'came over to us\\t朝_P 我們_N 位_V', 'came over to us\\t朝_P 我們_N 位_V', 'came over to us\\t朝_P 我們_N 位_V', 'came over to us\\t朝_P 我們_N 位_V', 'says to him\\t對_P 他_N 說_V', 'says to him\\t對_P 他_N 說_V', 'says to him\\t對_P 他_N 說_V', 'says to him\\t對_P 他_N 說_V', 'says to him\\t對_P 他_N 說_V', 'says to him\\t對_P 他_N 說_V', 'says to him\\t對_P 他_N 說_V', 'says to him\\t對_P 他_N 說_V', 'is advocated in China\\t在_P 中國_N 提倡_V', 'is advocated in China\\t在_P 中國_N 提倡_V', 'is advocated in China\\t在_P 中國_N 提倡_V', 'is advocated in China\\t在_P 中國_N 提倡_V', 'is advocated in China\\t在_P 中國_N 提倡_V', 'is advocated in China\\t在_P 中國_N 提倡_V', 'is advocated in China\\t在_P 中國_N 提倡_V', 'is advocated in China\\t在_P 中國_N 提倡_V', 'relate with us\\t與_P 我們_N 聯絡_V', 'relate with us\\t與_P 我們_N 聯絡_V', 'relate with us\\t與_P 我們_N 聯絡_V', 'relate with us\\t與_P 我們_N 聯絡_V', 'relate with us\\t與_P 我們_N 聯絡_V', 'relate with us\\t與_P 我們_N 聯絡_V', 'relate with us\\t與_P 我們_N 聯絡_V', 'relate with us\\t與_P 我們_N 聯絡_V', 'explain to her\\t向_P 她_N 解釋_V', 'explain to her\\t向_P 她_N 解釋_V', 'explain to her\\t向_P 她_N 解釋_V', 'explain to her\\t向_P 她_N 解釋_V', 'explain to her\\t向_P 她_N 解釋_V', 'explain to her\\t向_P 她_N 解釋_V', 'explain to her\\t向_P 她_N 解釋_V', 'explain to her\\t向_P 她_N 解釋_V', 'bow to reality\\t向_P 現實_N 低頭_V', 'bow to reality\\t向_P 現實_N 低頭_V', 'bow to reality\\t向_P 現實_N 低頭_V', 'bow to reality\\t向_P 現實_N 低頭_V', 'bow to reality\\t向_P 現實_N 低頭_V', 'bow to reality\\t向_P 現實_N 低頭_V', 'bow to reality\\t向_P 現實_N 低頭_V', 'bow to reality\\t向_P 現實_N 低頭_V', 'lied to the police\\t對_P 警察_N 撒謊_V', 'lied to the police\\t對_P 警察_N 撒謊_V', 'lied to the police\\t對_P 警察_N 撒謊_V', 'lied to the police\\t對_P 警察_N 撒謊_V', 'lied to the police\\t對_P 警察_N 撒謊_V', 'lied to the police\\t對_P 警察_N 撒謊_V', 'lied to the police\\t對_P 警察_N 撒謊_V', 'lied to the police\\t對_P 警察_N 撒謊_V', 'looked to the ground\\t向_P 地上_N 看去_V', 'looked to the ground\\t向_P 地上_N 看去_V', 'looked to the ground\\t向_P 地上_N 看去_V', 'looked to the ground\\t向_P 地上_N 看去_V', 'looked to the ground\\t向_P 地上_N 看去_V', 'looked to the ground\\t向_P 地上_N 看去_V', 'looked to the ground\\t向_P 地上_N 看去_V', 'looked to the ground\\t向_P 地上_N 看去_V', 'meet with you\\t與_P 你_N 相遇_V', 'meet with you\\t與_P 你_N 相遇_V', 'meet with you\\t與_P 你_N 相遇_V', 'meet with you\\t與_P 你_N 相遇_V', 'meet with you\\t與_P 你_N 相遇_V', 'meet with you\\t與_P 你_N 相遇_V', 'meet with you\\t與_P 你_N 相遇_V', 'meet with you\\t與_P 你_N 相遇_V', 'say to you\\t跟_P 你_N 說_V', 'say to you\\t跟_P 你_N 說_V', 'say to you\\t跟_P 你_N 說_V', 'say to you\\t跟_P 你_N 說_V', 'say to you\\t跟_P 你_N 說_V', 'say to you\\t跟_P 你_N 說_V', 'say to you\\t跟_P 你_N 說_V', 'say to you\\t跟_P 你_N 說_V', 'looked up to you\\t把_P 你_N 看_V', 'looked up to you\\t把_P 你_N 看_V', 'looked up to you\\t把_P 你_N 看_V', 'looked up to you\\t把_P 你_N 看_V', 'looked up to you\\t把_P 你_N 看_V', 'looked up to you\\t把_P 你_N 看_V', 'looked up to you\\t把_P 你_N 看_V', 'looked up to you\\t把_P 你_N 看_V', 'crowding about the door\\t向_P 門口_N 擁_V', 'crowding about the door\\t向_P 門口_N 擁_V', 'crowding about the door\\t向_P 門口_N 擁_V', 'crowding about the door\\t向_P 門口_N 擁_V', 'crowding about the door\\t向_P 門口_N 擁_V', 'crowding about the door\\t向_P 門口_N 擁_V', 'crowding about the door\\t向_P 門口_N 擁_V', 'crowding about the door\\t向_P 門口_N 擁_V', 'stood in the doorway\\t在_P 門口_N 站_V', 'stood in the doorway\\t在_P 門口_N 站_V', 'stood in the doorway\\t在_P 門口_N 站_V', 'stood in the doorway\\t在_P 門口_N 站_V', 'stood in the doorway\\t在_P 門口_N 站_V', 'stood in the doorway\\t在_P 門口_N 站_V', 'stood in the doorway\\t在_P 門口_N 站_V', 'stood in the doorway\\t在_P 門口_N 站_V', 'worked in the shop\\t在_P 店裡_N 幹活_V', 'worked in the shop\\t在_P 店裡_N 幹活_V', 'worked in the shop\\t在_P 店裡_N 幹活_V', 'worked in the shop\\t在_P 店裡_N 幹活_V', 'worked in the shop\\t在_P 店裡_N 幹活_V', 'worked in the shop\\t在_P 店裡_N 幹活_V', 'worked in the shop\\t在_P 店裡_N 幹活_V', 'worked in the shop\\t在_P 店裡_N 幹活_V', 'discuss with you something\\t和_P 你_N 討論_V', 'discuss with you something\\t和_P 你_N 討論_V', 'discuss with you something\\t和_P 你_N 討論_V', 'discuss with you something\\t和_P 你_N 討論_V', 'discuss with you something\\t和_P 你_N 討論_V', 'discuss with you something\\t和_P 你_N 討論_V', 'discuss with you something\\t和_P 你_N 討論_V', 'discuss with you something\\t和_P 你_N 討論_V', 'issued in Malibu\\t在_P 馬利布_N 發行_V', 'issued in Malibu\\t在_P 馬利布_N 發行_V', 'issued in Malibu\\t在_P 馬利布_N 發行_V', 'issued in Malibu\\t在_P 馬利布_N 發行_V', 'issued in Malibu\\t在_P 馬利布_N 發行_V', 'issued in Malibu\\t在_P 馬利布_N 發行_V', 'issued in Malibu\\t在_P 馬利布_N 發行_V', 'issued in Malibu\\t在_P 馬利布_N 發行_V', 'is ingrained in America\\t在_P 美國_N 根深蒂固_V', 'is ingrained in America\\t在_P 美國_N 根深蒂固_V', 'is ingrained in America\\t在_P 美國_N 根深蒂固_V', 'is ingrained in America\\t在_P 美國_N 根深蒂固_V', 'is ingrained in America\\t在_P 美國_N 根深蒂固_V', 'is ingrained in America\\t在_P 美國_N 根深蒂固_V', 'is ingrained in America\\t在_P 美國_N 根深蒂固_V', 'is ingrained in America\\t在_P 美國_N 根深蒂固_V', 'wafting in air\\t在_P 空中_N 飄來飄去_V', 'wafting in air\\t在_P 空中_N 飄來飄去_V', 'wafting in air\\t在_P 空中_N 飄來飄去_V', 'wafting in air\\t在_P 空中_N 飄來飄去_V', 'wafting in air\\t在_P 空中_N 飄來飄去_V', 'wafting in air\\t在_P 空中_N 飄來飄去_V', 'wafting in air\\t在_P 空中_N 飄來飄去_V', 'wafting in air\\t在_P 空中_N 飄來飄去_V', 'found in Australia\\t在_P 澳大利亞_N 發現_V', 'found in Australia\\t在_P 澳大利亞_N 發現_V', 'found in Australia\\t在_P 澳大利亞_N 發現_V', 'found in Australia\\t在_P 澳大利亞_N 發現_V', 'found in Australia\\t在_P 澳大利亞_N 發現_V', 'found in Australia\\t在_P 澳大利亞_N 發現_V', 'found in Australia\\t在_P 澳大利亞_N 發現_V', 'found in Australia\\t在_P 澳大利亞_N 發現_V', 'talk with her\\t和_P 她_N 說話_V', 'talk with her\\t和_P 她_N 說話_V', 'talk with her\\t和_P 她_N 說話_V', 'talk with her\\t和_P 她_N 說話_V', 'talk with her\\t和_P 她_N 說話_V', 'talk with her\\t和_P 她_N 說話_V', 'talk with her\\t和_P 她_N 說話_V', 'talk with her\\t和_P 她_N 說話_V', 'work for him\\t為_P 他_N 工作_V', 'work for him\\t為_P 他_N 工作_V', 'work for him\\t為_P 他_N 工作_V', 'work for him\\t為_P 他_N 工作_V', 'work for him\\t為_P 他_N 工作_V', 'work for him\\t為_P 他_N 工作_V', 'work for him\\t為_P 他_N 工作_V', 'work for him\\t為_P 他_N 工作_V', 'grew up in Los Angeles\\t在_P 洛杉磯_N 長大_V', 'grew up in Los Angeles\\t在_P 洛杉磯_N 長大_V', 'grew up in Los Angeles\\t在_P 洛杉磯_N 長大_V', 'grew up in Los Angeles\\t在_P 洛杉磯_N 長大_V', 'grew up in Los Angeles\\t在_P 洛杉磯_N 長大_V', 'grew up in Los Angeles\\t在_P 洛杉磯_N 長大_V', 'grew up in Los Angeles\\t在_P 洛杉磯_N 長大_V', 'grew up in Los Angeles\\t在_P 洛杉磯_N 長大_V', 'left in the daytime\\t在_P 白天_N 離開_V', 'left in the daytime\\t在_P 白天_N 離開_V', 'left in the daytime\\t在_P 白天_N 離開_V', 'left in the daytime\\t在_P 白天_N 離開_V', 'left in the daytime\\t在_P 白天_N 離開_V', 'left in the daytime\\t在_P 白天_N 離開_V', 'left in the daytime\\t在_P 白天_N 離開_V', 'left in the daytime\\t在_P 白天_N 離開_V', 'talk with me\\t同_P 我_N 談談_V', 'talk with me\\t同_P 我_N 談談_V', 'talk with me\\t同_P 我_N 談談_V', 'talk with me\\t同_P 我_N 談談_V', 'talk with me\\t同_P 我_N 談談_V', 'talk with me\\t同_P 我_N 談談_V', 'talk with me\\t同_P 我_N 談談_V', 'talk with me\\t同_P 我_N 談談_V', 'born in La Paz\\t在_P 拉帕茲_N 出生_V', 'born in La Paz\\t在_P 拉帕茲_N 出生_V', 'born in La Paz\\t在_P 拉帕茲_N 出生_V', 'born in La Paz\\t在_P 拉帕茲_N 出生_V', 'born in La Paz\\t在_P 拉帕茲_N 出生_V', 'born in La Paz\\t在_P 拉帕茲_N 出生_V', 'born in La Paz\\t在_P 拉帕茲_N 出生_V', 'born in La Paz\\t在_P 拉帕茲_N 出生_V', 'appeal to Carrie\\t於_P 嘉莉_N 求助_V', 'appeal to Carrie\\t於_P 嘉莉_N 求助_V', 'appeal to Carrie\\t於_P 嘉莉_N 求助_V', 'appeal to Carrie\\t於_P 嘉莉_N 求助_V', 'appeal to Carrie\\t於_P 嘉莉_N 求助_V', 'appeal to Carrie\\t於_P 嘉莉_N 求助_V', 'appeal to Carrie\\t於_P 嘉莉_N 求助_V', 'appeal to Carrie\\t於_P 嘉莉_N 求助_V', 'published in the Gazette\\t在_P 憲報_N 刊登_V', 'published in the Gazette\\t在_P 憲報_N 刊登_V', 'published in the Gazette\\t在_P 憲報_N 刊登_V', 'published in the Gazette\\t在_P 憲報_N 刊登_V', 'published in the Gazette\\t在_P 憲報_N 刊登_V', 'published in the Gazette\\t在_P 憲報_N 刊登_V', 'published in the Gazette\\t在_P 憲報_N 刊登_V', 'published in the Gazette\\t在_P 憲報_N 刊登_V', 'published in the Gazette\\t在_P 憲報_N 刊登_V', 'published in the Gazette\\t在_P 憲報_N 刊登_V', 'published in the Gazette\\t在_P 憲報_N 刊登_V', 'published in the Gazette\\t在_P 憲報_N 刊登_V', 'published in the Gazette\\t在_P 憲報_N 刊登_V', 'published in the Gazette\\t在_P 憲報_N 刊登_V', 'published in the Gazette\\t在_P 憲報_N 刊登_V', 'published in the Gazette\\t在_P 憲報_N 刊登_V', 'published in the Gazette\\t在_P 憲報_N 刊登_V', 'published in the Gazette\\t在_P 憲報_N 刊登_V', 'published in the Gazette\\t在_P 憲報_N 刊登_V', 'published in the Gazette\\t在_P 憲報_N 刊登_V', 'published in the Gazette\\t在_P 憲報_N 刊登_V', 'published in the Gazette\\t在_P 憲報_N 刊登_V', 'published in the Gazette\\t在_P 憲報_N 刊登_V', 'published in the Gazette\\t在_P 憲報_N 刊登_V', 'do for someone\\t為_P 別人_N 做_V', 'do for someone\\t為_P 別人_N 做_V', 'do for someone\\t為_P 別人_N 做_V', 'do for someone\\t為_P 別人_N 做_V', 'do for someone\\t為_P 別人_N 做_V', 'do for someone\\t為_P 別人_N 做_V', 'do for someone\\t為_P 別人_N 做_V', 'do for someone\\t為_P 別人_N 做_V', 'do in Europe\\t在_P 歐洲_N 做_V', 'do in Europe\\t在_P 歐洲_N 做_V', 'do in Europe\\t在_P 歐洲_N 做_V', 'do in Europe\\t在_P 歐洲_N 做_V', 'do in Europe\\t在_P 歐洲_N 做_V', 'do in Europe\\t在_P 歐洲_N 做_V', 'do in Europe\\t在_P 歐洲_N 做_V', 'do in Europe\\t在_P 歐洲_N 做_V', 'eat with a fork\\t用_P 刀叉_N 吃_V', 'eat with a fork\\t用_P 刀叉_N 吃_V', 'eat with a fork\\t用_P 刀叉_N 吃_V', 'eat with a fork\\t用_P 刀叉_N 吃_V', 'eat with a fork\\t用_P 刀叉_N 吃_V', 'eat with a fork\\t用_P 刀叉_N 吃_V', 'eat with a fork\\t用_P 刀叉_N 吃_V', 'eat with a fork\\t用_P 刀叉_N 吃_V', 'talked to her\\t跟_P 她_N 說話_V', 'talked to her\\t跟_P 她_N 說話_V', 'talked to her\\t跟_P 她_N 說話_V', 'talked to her\\t跟_P 她_N 說話_V', 'talked to her\\t跟_P 她_N 說話_V', 'talked to her\\t跟_P 她_N 說話_V', 'talked to her\\t跟_P 她_N 說話_V', 'talked to her\\t跟_P 她_N 說話_V', 'spoke to parliament\\t對_P 議會_N 發言_V', 'spoke to parliament\\t對_P 議會_N 發言_V', 'spoke to parliament\\t對_P 議會_N 發言_V', 'spoke to parliament\\t對_P 議會_N 發言_V', 'spoke to parliament\\t對_P 議會_N 發言_V', 'spoke to parliament\\t對_P 議會_N 發言_V', 'spoke to parliament\\t對_P 議會_N 發言_V', 'spoke to parliament\\t對_P 議會_N 發言_V', 'begins in New York\\t在_P 紐約_N 進行_V', 'begins in New York\\t在_P 紐約_N 進行_V', 'begins in New York\\t在_P 紐約_N 進行_V', 'begins in New York\\t在_P 紐約_N 進行_V', 'begins in New York\\t在_P 紐約_N 進行_V', 'begins in New York\\t在_P 紐約_N 進行_V', 'begins in New York\\t在_P 紐約_N 進行_V', 'begins in New York\\t在_P 紐約_N 進行_V', 'grew up in Ireland\\t在_P 愛爾蘭_N 長大_V', 'grew up in Ireland\\t在_P 愛爾蘭_N 長大_V', 'grew up in Ireland\\t在_P 愛爾蘭_N 長大_V', 'grew up in Ireland\\t在_P 愛爾蘭_N 長大_V', 'grew up in Ireland\\t在_P 愛爾蘭_N 長大_V', 'grew up in Ireland\\t在_P 愛爾蘭_N 長大_V', 'grew up in Ireland\\t在_P 愛爾蘭_N 長大_V', 'grew up in Ireland\\t在_P 愛爾蘭_N 長大_V', 'vote in that constituencyâ\\x80\\x9d\\t在_P 選區_N 投票_V', 'vote in that constituencyâ\\x80\\x9d\\t在_P 選區_N 投票_V', 'vote in that constituencyâ\\x80\\x9d\\t在_P 選區_N 投票_V', 'vote in that constituencyâ\\x80\\x9d\\t在_P 選區_N 投票_V', 'vote in that constituencyâ\\x80\\x9d\\t在_P 選區_N 投票_V', 'vote in that constituencyâ\\x80\\x9d\\t在_P 選區_N 投票_V', 'vote in that constituencyâ\\x80\\x9d\\t在_P 選區_N 投票_V', 'vote in that constituencyâ\\x80\\x9d\\t在_P 選區_N 投票_V', 'said with the help\\t在_P 幫助_N 說_V', 'said with the help\\t在_P 幫助_N 說_V', 'said with the help\\t在_P 幫助_N 說_V', 'said with the help\\t在_P 幫助_N 說_V', 'said with the help\\t在_P 幫助_N 說_V', 'said with the help\\t在_P 幫助_N 說_V', 'said with the help\\t在_P 幫助_N 說_V', 'said with the help\\t在_P 幫助_N 說_V', 'said on Tuesday\\t在_P 週二_N 說_V', 'said on Tuesday\\t在_P 週二_N 說_V', 'said on Tuesday\\t在_P 週二_N 說_V', 'said on Tuesday\\t在_P 週二_N 說_V', 'said on Tuesday\\t在_P 週二_N 說_V', 'said on Tuesday\\t在_P 週二_N 說_V', 'said on Tuesday\\t在_P 週二_N 說_V', 'said on Tuesday\\t在_P 週二_N 說_V', 'marry with monks\\t與_P 僧侶_N 結婚_V', 'marry with monks\\t與_P 僧侶_N 結婚_V', 'marry with monks\\t與_P 僧侶_N 結婚_V', 'marry with monks\\t與_P 僧侶_N 結婚_V', 'marry with monks\\t與_P 僧侶_N 結婚_V', 'marry with monks\\t與_P 僧侶_N 結婚_V', 'marry with monks\\t與_P 僧侶_N 結婚_V', 'marry with monks\\t與_P 僧侶_N 結婚_V', 'working for yourself\\t為_P 自己_N 打工_V', 'working for yourself\\t為_P 自己_N 打工_V', 'working for yourself\\t為_P 自己_N 打工_V', 'working for yourself\\t為_P 自己_N 打工_V', 'working for yourself\\t為_P 自己_N 打工_V', 'working for yourself\\t為_P 自己_N 打工_V', 'working for yourself\\t為_P 自己_N 打工_V', 'working for yourself\\t為_P 自己_N 打工_V', 'rave about the productivity\\t在_P 效率_N 起床_V', 'rave about the productivity\\t在_P 效率_N 起床_V', 'rave about the productivity\\t在_P 效率_N 起床_V', 'rave about the productivity\\t在_P 效率_N 起床_V', 'rave about the productivity\\t在_P 效率_N 起床_V', 'rave about the productivity\\t在_P 效率_N 起床_V', 'rave about the productivity\\t在_P 效率_N 起床_V', 'rave about the productivity\\t在_P 效率_N 起床_V', 'do in your head\\t在_P 腦子_N 做_V', 'do in your head\\t在_P 腦子_N 做_V', 'do in your head\\t在_P 腦子_N 做_V', 'do in your head\\t在_P 腦子_N 做_V', 'do in your head\\t在_P 腦子_N 做_V', 'do in your head\\t在_P 腦子_N 做_V', 'do in your head\\t在_P 腦子_N 做_V', 'do in your head\\t在_P 腦子_N 做_V', 'study in the open air\\t在_P 戶外_N 學習_V', 'study in the open air\\t在_P 戶外_N 學習_V', 'study in the open air\\t在_P 戶外_N 學習_V', 'study in the open air\\t在_P 戶外_N 學習_V', 'study in the open air\\t在_P 戶外_N 學習_V', 'study in the open air\\t在_P 戶外_N 學習_V', 'study in the open air\\t在_P 戶外_N 學習_V', 'study in the open air\\t在_P 戶外_N 學習_V', 'says in Kuala Lumpur\\t在_P 吉隆坡_N 表示_V', 'says in Kuala Lumpur\\t在_P 吉隆坡_N 表示_V', 'says in Kuala Lumpur\\t在_P 吉隆坡_N 表示_V', 'says in Kuala Lumpur\\t在_P 吉隆坡_N 表示_V', 'says in Kuala Lumpur\\t在_P 吉隆坡_N 表示_V', 'says in Kuala Lumpur\\t在_P 吉隆坡_N 表示_V', 'says in Kuala Lumpur\\t在_P 吉隆坡_N 表示_V', 'says in Kuala Lumpur\\t在_P 吉隆坡_N 表示_V', 'dine with us\\t跟_P 我們_N 吃飯_V', 'dine with us\\t跟_P 我們_N 吃飯_V', 'dine with us\\t跟_P 我們_N 吃飯_V', 'dine with us\\t跟_P 我們_N 吃飯_V', 'dine with us\\t跟_P 我們_N 吃飯_V', 'dine with us\\t跟_P 我們_N 吃飯_V', 'dine with us\\t跟_P 我們_N 吃飯_V', 'dine with us\\t跟_P 我們_N 吃飯_V', 'did for them\\t為_P 他們_N 做_V', 'did for them\\t為_P 他們_N 做_V', 'did for them\\t為_P 他們_N 做_V', 'did for them\\t為_P 他們_N 做_V', 'did for them\\t為_P 他們_N 做_V', 'did for them\\t為_P 他們_N 做_V', 'did for them\\t為_P 他們_N 做_V', 'did for them\\t為_P 他們_N 做_V', 'talk with her\\t與_P 她_N 談話_V', 'talk with her\\t與_P 她_N 談話_V', 'talk with her\\t與_P 她_N 談話_V', 'talk with her\\t與_P 她_N 談話_V', 'talk with her\\t與_P 她_N 談話_V', 'talk with her\\t與_P 她_N 談話_V', 'talk with her\\t與_P 她_N 談話_V', 'talk with her\\t與_P 她_N 談話_V', 'do for us\\t為_P 我們_N 完成_V', 'do for us\\t為_P 我們_N 完成_V', 'do for us\\t為_P 我們_N 完成_V', 'do for us\\t為_P 我們_N 完成_V', 'do for us\\t為_P 我們_N 完成_V', 'do for us\\t為_P 我們_N 完成_V', 'do for us\\t為_P 我們_N 完成_V', 'do for us\\t為_P 我們_N 完成_V', 'walking in the direction\\t向_P 方向_N 走_V', 'walking in the direction\\t向_P 方向_N 走_V', 'walking in the direction\\t向_P 方向_N 走_V', 'walking in the direction\\t向_P 方向_N 走_V', 'walking in the direction\\t向_P 方向_N 走_V', 'walking in the direction\\t向_P 方向_N 走_V', 'walking in the direction\\t向_P 方向_N 走_V', 'walking in the direction\\t向_P 方向_N 走_V', 'give up on earth\\t於_P 世_N 放棄_V', 'give up on earth\\t於_P 世_N 放棄_V', 'give up on earth\\t於_P 世_N 放棄_V', 'give up on earth\\t於_P 世_N 放棄_V', 'give up on earth\\t於_P 世_N 放棄_V', 'give up on earth\\t於_P 世_N 放棄_V', 'give up on earth\\t於_P 世_N 放棄_V', 'give up on earth\\t於_P 世_N 放棄_V', 'have been hold in china\\t在_P 中國_N 舉行_V', 'have been hold in china\\t在_P 中國_N 舉行_V', 'have been hold in china\\t在_P 中國_N 舉行_V', 'have been hold in china\\t在_P 中國_N 舉行_V', 'have been hold in china\\t在_P 中國_N 舉行_V', 'have been hold in china\\t在_P 中國_N 舉行_V', 'have been hold in china\\t在_P 中國_N 舉行_V', 'have been hold in china\\t在_P 中國_N 舉行_V', 'amalgamate with the parent firm\\t和_P 母公司_N 合併_V', 'amalgamate with the parent firm\\t和_P 母公司_N 合併_V', 'amalgamate with the parent firm\\t和_P 母公司_N 合併_V', 'amalgamate with the parent firm\\t和_P 母公司_N 合併_V', 'amalgamate with the parent firm\\t和_P 母公司_N 合併_V', 'amalgamate with the parent firm\\t和_P 母公司_N 合併_V', 'amalgamate with the parent firm\\t和_P 母公司_N 合併_V', 'amalgamate with the parent firm\\t和_P 母公司_N 合併_V', 'are represented with the tag\\t用_P 標籤_N 表示_V', 'are represented with the tag\\t用_P 標籤_N 表示_V', 'are represented with the tag\\t用_P 標籤_N 表示_V', 'are represented with the tag\\t用_P 標籤_N 表示_V', 'are represented with the tag\\t用_P 標籤_N 表示_V', 'are represented with the tag\\t用_P 標籤_N 表示_V', 'are represented with the tag\\t用_P 標籤_N 表示_V', 'are represented with the tag\\t用_P 標籤_N 表示_V', 'suggest to them\\t向_P 他們_N 建議_V', 'suggest to them\\t向_P 他們_N 建議_V', 'suggest to them\\t向_P 他們_N 建議_V', 'suggest to them\\t向_P 他們_N 建議_V', 'suggest to them\\t向_P 他們_N 建議_V', 'suggest to them\\t向_P 他們_N 建議_V', 'suggest to them\\t向_P 他們_N 建議_V', 'suggest to them\\t向_P 他們_N 建議_V', 'study in the living room\\t在_P 客廳_N 讀書_V', 'study in the living room\\t在_P 客廳_N 讀書_V', 'study in the living room\\t在_P 客廳_N 讀書_V', 'study in the living room\\t在_P 客廳_N 讀書_V', 'study in the living room\\t在_P 客廳_N 讀書_V', 'study in the living room\\t在_P 客廳_N 讀書_V', 'study in the living room\\t在_P 客廳_N 讀書_V', 'study in the living room\\t在_P 客廳_N 讀書_V', 'like for you\\t為_P 您_N 攝像_V', 'like for you\\t為_P 您_N 攝像_V', 'like for you\\t為_P 您_N 攝像_V', 'like for you\\t為_P 您_N 攝像_V', 'like for you\\t為_P 您_N 攝像_V', 'like for you\\t為_P 您_N 攝像_V', 'like for you\\t為_P 您_N 攝像_V', 'like for you\\t為_P 您_N 攝像_V', 'locate in Hong Kong\\t在_P 香港_N 定居_V', 'locate in Hong Kong\\t在_P 香港_N 定居_V', 'locate in Hong Kong\\t在_P 香港_N 定居_V', 'locate in Hong Kong\\t在_P 香港_N 定居_V', 'locate in Hong Kong\\t在_P 香港_N 定居_V', 'locate in Hong Kong\\t在_P 香港_N 定居_V', 'locate in Hong Kong\\t在_P 香港_N 定居_V', 'locate in Hong Kong\\t在_P 香港_N 定居_V', 'met in June\\t在_P 六月_N 相遇_V', 'met in June\\t在_P 六月_N 相遇_V', 'met in June\\t在_P 六月_N 相遇_V', 'met in June\\t在_P 六月_N 相遇_V', 'met in June\\t在_P 六月_N 相遇_V', 'met in June\\t在_P 六月_N 相遇_V', 'met in June\\t在_P 六月_N 相遇_V', 'met in June\\t在_P 六月_N 相遇_V', 'kneel to me\\t向_P 我_N 跪下_V', 'kneel to me\\t向_P 我_N 跪下_V', 'kneel to me\\t向_P 我_N 跪下_V', 'kneel to me\\t向_P 我_N 跪下_V', 'kneel to me\\t向_P 我_N 跪下_V', 'kneel to me\\t向_P 我_N 跪下_V', 'kneel to me\\t向_P 我_N 跪下_V', 'kneel to me\\t向_P 我_N 跪下_V', 'prayed for Tom\\t為_P 湯姆_N 祈禱_V', 'prayed for Tom\\t為_P 湯姆_N 祈禱_V', 'prayed for Tom\\t為_P 湯姆_N 祈禱_V', 'prayed for Tom\\t為_P 湯姆_N 祈禱_V', 'prayed for Tom\\t為_P 湯姆_N 祈禱_V', 'prayed for Tom\\t為_P 湯姆_N 祈禱_V', 'prayed for Tom\\t為_P 湯姆_N 祈禱_V', 'prayed for Tom\\t為_P 湯姆_N 祈禱_V', 'cooperate with us\\t跟_P 我們_N 合作_V', 'cooperate with us\\t跟_P 我們_N 合作_V', 'cooperate with us\\t跟_P 我們_N 合作_V', 'cooperate with us\\t跟_P 我們_N 合作_V', 'cooperate with us\\t跟_P 我們_N 合作_V', 'cooperate with us\\t跟_P 我們_N 合作_V', 'cooperate with us\\t跟_P 我們_N 合作_V', 'cooperate with us\\t跟_P 我們_N 合作_V', 'grew up in Beijing\\t在_P 北京_N 長大_V', 'grew up in Beijing\\t在_P 北京_N 長大_V', 'grew up in Beijing\\t在_P 北京_N 長大_V', 'grew up in Beijing\\t在_P 北京_N 長大_V', 'grew up in Beijing\\t在_P 北京_N 長大_V', 'grew up in Beijing\\t在_P 北京_N 長大_V', 'grew up in Beijing\\t在_P 北京_N 長大_V', 'grew up in Beijing\\t在_P 北京_N 長大_V', 'talk with you\\t跟_P 你_N 談話_V', 'talk with you\\t跟_P 你_N 談話_V', 'talk with you\\t跟_P 你_N 談話_V', 'talk with you\\t跟_P 你_N 談話_V', 'talk with you\\t跟_P 你_N 談話_V', 'talk with you\\t跟_P 你_N 談話_V', 'talk with you\\t跟_P 你_N 談話_V', 'talk with you\\t跟_P 你_N 談話_V', 'say to husband\\t對_P 她_N 說_V', 'say to husband\\t對_P 她_N 說_V', 'say to husband\\t對_P 她_N 說_V', 'say to husband\\t對_P 她_N 說_V', 'say to husband\\t對_P 她_N 說_V', 'say to husband\\t對_P 她_N 說_V', 'say to husband\\t對_P 她_N 說_V', 'say to husband\\t對_P 她_N 說_V', 'do honor to him\\t向_P 他_N 致敬_V', 'do honor to him\\t向_P 他_N 致敬_V', 'do honor to him\\t向_P 他_N 致敬_V', 'do honor to him\\t向_P 他_N 致敬_V', 'do honor to him\\t向_P 他_N 致敬_V', 'do honor to him\\t向_P 他_N 致敬_V', 'do honor to him\\t向_P 他_N 致敬_V', 'do honor to him\\t向_P 他_N 致敬_V', 'went to her\\t朝_P 她_N 走去_V', 'went to her\\t朝_P 她_N 走去_V', 'went to her\\t朝_P 她_N 走去_V', 'went to her\\t朝_P 她_N 走去_V', 'went to her\\t朝_P 她_N 走去_V', 'went to her\\t朝_P 她_N 走去_V', 'went to her\\t朝_P 她_N 走去_V', 'went to her\\t朝_P 她_N 走去_V', 'work for us\\t為_P 我們_N 工作_V', 'work for us\\t為_P 我們_N 工作_V', 'work for us\\t為_P 我們_N 工作_V', 'work for us\\t為_P 我們_N 工作_V', 'work for us\\t為_P 我們_N 工作_V', 'work for us\\t為_P 我們_N 工作_V', 'work for us\\t為_P 我們_N 工作_V', 'work for us\\t為_P 我們_N 工作_V', 'speak to her\\t跟_P 她_N 講話_V', 'speak to her\\t跟_P 她_N 講話_V', 'speak to her\\t跟_P 她_N 講話_V', 'speak to her\\t跟_P 她_N 講話_V', 'speak to her\\t跟_P 她_N 講話_V', 'speak to her\\t跟_P 她_N 講話_V', 'speak to her\\t跟_P 她_N 講話_V', 'speak to her\\t跟_P 她_N 講話_V', 'talk with him\\t和_P 他_N 說話_V', 'talk with him\\t和_P 他_N 說話_V', 'talk with him\\t和_P 他_N 說話_V', 'talk with him\\t和_P 他_N 說話_V', 'talk with him\\t和_P 他_N 說話_V', 'talk with him\\t和_P 他_N 說話_V', 'talk with him\\t和_P 他_N 說話_V', 'talk with him\\t和_P 他_N 說話_V', 'speak to him\\t對_P 他_N 談論_V', 'speak to him\\t對_P 他_N 談論_V', 'speak to him\\t對_P 他_N 談論_V', 'speak to him\\t對_P 他_N 談論_V', 'speak to him\\t對_P 他_N 談論_V', 'speak to him\\t對_P 他_N 談論_V', 'speak to him\\t對_P 他_N 談論_V', 'speak to him\\t對_P 他_N 談論_V', 'commune with nature\\t與_P 大自然_N 神交_V', 'commune with nature\\t與_P 大自然_N 神交_V', 'commune with nature\\t與_P 大自然_N 神交_V', 'commune with nature\\t與_P 大自然_N 神交_V', 'commune with nature\\t與_P 大自然_N 神交_V', 'commune with nature\\t與_P 大自然_N 神交_V', 'commune with nature\\t與_P 大自然_N 神交_V', 'commune with nature\\t與_P 大自然_N 神交_V', 'suggest to him\\t向_P 他_N 建議_V', 'suggest to him\\t向_P 他_N 建議_V', 'suggest to him\\t向_P 他_N 建議_V', 'suggest to him\\t向_P 他_N 建議_V', 'suggest to him\\t向_P 他_N 建議_V', 'suggest to him\\t向_P 他_N 建議_V', 'suggest to him\\t向_P 他_N 建議_V', 'suggest to him\\t向_P 他_N 建議_V', 'lying to mother\\t對_P 你_N 說謊_V', 'lying to mother\\t對_P 你_N 說謊_V', 'lying to mother\\t對_P 你_N 說謊_V', 'lying to mother\\t對_P 你_N 說謊_V', 'lying to mother\\t對_P 你_N 說謊_V', 'lying to mother\\t對_P 你_N 說謊_V', 'lying to mother\\t對_P 你_N 說謊_V', 'lying to mother\\t對_P 你_N 說謊_V', 'stalled on the brow\\t在_P 陡坡處_N 拋錨_V', 'stalled on the brow\\t在_P 陡坡處_N 拋錨_V', 'stalled on the brow\\t在_P 陡坡處_N 拋錨_V', 'stalled on the brow\\t在_P 陡坡處_N 拋錨_V', 'stalled on the brow\\t在_P 陡坡處_N 拋錨_V', 'stalled on the brow\\t在_P 陡坡處_N 拋錨_V', 'stalled on the brow\\t在_P 陡坡處_N 拋錨_V', 'stalled on the brow\\t在_P 陡坡處_N 拋錨_V', 'talk to me\\t對_P 我_N 說話_V', 'talk to me\\t對_P 我_N 說話_V', 'talk to me\\t對_P 我_N 說話_V', 'talk to me\\t對_P 我_N 說話_V', 'talk to me\\t對_P 我_N 說話_V', 'talk to me\\t對_P 我_N 說話_V', 'talk to me\\t對_P 我_N 說話_V', 'talk to me\\t對_P 我_N 說話_V', 'work for someone\\t為_P 別人_N 工作_V', 'work for someone\\t為_P 別人_N 工作_V', 'work for someone\\t為_P 別人_N 工作_V', 'work for someone\\t為_P 別人_N 工作_V', 'work for someone\\t為_P 別人_N 工作_V', 'work for someone\\t為_P 別人_N 工作_V', 'work for someone\\t為_P 別人_N 工作_V', 'work for someone\\t為_P 別人_N 工作_V', 'cooperate with us\\t同_P 我們_N 合作_V', 'cooperate with us\\t同_P 我們_N 合作_V', 'cooperate with us\\t同_P 我們_N 合作_V', 'cooperate with us\\t同_P 我們_N 合作_V', 'cooperate with us\\t同_P 我們_N 合作_V', 'cooperate with us\\t同_P 我們_N 合作_V', 'cooperate with us\\t同_P 我們_N 合作_V', 'cooperate with us\\t同_P 我們_N 合作_V', 'speak with feeling\\t針對_P 失業率_N 慷慨_V', 'speak with feeling\\t針對_P 失業率_N 慷慨_V', 'speak with feeling\\t針對_P 失業率_N 慷慨_V', 'speak with feeling\\t針對_P 失業率_N 慷慨_V', 'speak with feeling\\t針對_P 失業率_N 慷慨_V', 'speak with feeling\\t針對_P 失業率_N 慷慨_V', 'speak with feeling\\t針對_P 失業率_N 慷慨_V', 'speak with feeling\\t針對_P 失業率_N 慷慨_V', 'shall speak to you\\t對_P 你_N 說話_V', 'shall speak to you\\t對_P 你_N 說話_V', 'shall speak to you\\t對_P 你_N 說話_V', 'shall speak to you\\t對_P 你_N 說話_V', 'shall speak to you\\t對_P 你_N 說話_V', 'shall speak to you\\t對_P 你_N 說話_V', 'shall speak to you\\t對_P 你_N 說話_V', 'shall speak to you\\t對_P 你_N 說話_V', 'cooperate with neighbors\\t和_P 鄰居_N 合作_V', 'cooperate with neighbors\\t和_P 鄰居_N 合作_V', 'cooperate with neighbors\\t和_P 鄰居_N 合作_V', 'cooperate with neighbors\\t和_P 鄰居_N 合作_V', 'cooperate with neighbors\\t和_P 鄰居_N 合作_V', 'cooperate with neighbors\\t和_P 鄰居_N 合作_V', 'cooperate with neighbors\\t和_P 鄰居_N 合作_V', 'cooperate with neighbors\\t和_P 鄰居_N 合作_V', 'work with her\\t和_P 她_N 合作_V', 'work with her\\t和_P 她_N 合作_V', 'work with her\\t和_P 她_N 合作_V', 'work with her\\t和_P 她_N 合作_V', 'work with her\\t和_P 她_N 合作_V', 'work with her\\t和_P 她_N 合作_V', 'work with her\\t和_P 她_N 合作_V', 'work with her\\t和_P 她_N 合作_V', 'yield to it\\t向_P 它_N 屈服_V', 'yield to it\\t向_P 它_N 屈服_V', 'yield to it\\t向_P 它_N 屈服_V', 'yield to it\\t向_P 它_N 屈服_V', 'yield to it\\t向_P 它_N 屈服_V', 'yield to it\\t向_P 它_N 屈服_V', 'yield to it\\t向_P 它_N 屈服_V', 'yield to it\\t向_P 它_N 屈服_V', 'speak to me\\t跟_P 我_N 說話_V', 'speak to me\\t跟_P 我_N 說話_V', 'speak to me\\t跟_P 我_N 說話_V', 'speak to me\\t跟_P 我_N 說話_V', 'speak to me\\t跟_P 我_N 說話_V', 'speak to me\\t跟_P 我_N 說話_V', 'speak to me\\t跟_P 我_N 說話_V', 'speak to me\\t跟_P 我_N 說話_V', 'depend on weather\\t於_P 天氣_N 取決_V', 'depend on weather\\t於_P 天氣_N 取決_V', 'depend on weather\\t於_P 天氣_N 取決_V', 'depend on weather\\t於_P 天氣_N 取決_V', 'depend on weather\\t於_P 天氣_N 取決_V', 'depend on weather\\t於_P 天氣_N 取決_V', 'depend on weather\\t於_P 天氣_N 取決_V', 'depend on weather\\t於_P 天氣_N 取決_V']\n"
     ]
    }
   ],
   "source": [
    "total = 0\n",
    "# for i in all_info_dict['V n']:\n",
    "#     total += len(all_info_dict['V n'][i])\n",
    "#     total += len(i)\n",
    "print(total)\n",
    "print(len(all_info_dict['V n']['V p n']))\n",
    "for i in all_info_dict['V n']:\n",
    "    total += len(all_info_dict['V n'][i])\n",
    "#     total += 1\n",
    "#     print(i)\n",
    "\n",
    "print(total)\n",
    "print(len(set(all_info_dict['V p n']['P n V'])))\n",
    "print(all_info_dict['V p n']['p n V'])"
   ]
  },
  {
   "cell_type": "code",
   "execution_count": 91,
   "metadata": {},
   "outputs": [],
   "source": [
    "sent_sum = []\n",
    "total = []\n",
    "search_word = 'V n'\n",
    "for i in all_info_dict[search_word]:\n",
    "    total.append(len(all_info_dict[search_word][i]))\n",
    "mean = np.mean(total)\n",
    "std = np.std(total)\n",
    "door = mean + 2*std"
   ]
  },
  {
   "cell_type": "code",
   "execution_count": 92,
   "metadata": {
    "scrolled": true
   },
   "outputs": [
    {
     "name": "stdout",
     "output_type": "stream",
     "text": [
      "V n 26856\n",
      "is a remarkable virtuoso\t是_V 一_DET 演奏家_N\n",
      "adopt them\t採用_V 它們_N\n",
      "is a key way\t是_V 路_N\n",
      "\n",
      "\n",
      "V 11332\n",
      "stop our Kingdom\t擋不住_V\n",
      "believe it\t相信_V\n",
      "will pack yourself\t捲鋪蓋_V\n",
      "\n",
      "\n",
      "V v n 4575\n",
      "pass the information desk\t過_V 了_ASP 詢問_V 臺_N\n",
      "having what enough evidence\t有_V 足夠_V 證據_N\n",
      "is an important theory\t是_V 的_DE 一_DET 個_CL 重要_V 理論_N\n",
      "\n",
      "\n",
      "V v 4206\n",
      "flushed wit happiness\t充滿_V 喜悅_V\n",
      "followed Him\t跟隨_V 哀號_V\n",
      "be destine\t命中_V 註定_V\n",
      "\n",
      "\n",
      "n V 3277\n",
      "appending momentum factors\t動量_N 因子_N 進行_V\n",
      "contest this election\t此_DET 選舉_N 示_V\n",
      "stay up all night last night\t昨晚_N 熬夜_V\n",
      "\n",
      "\n",
      "V n v 2081\n",
      "retreating FARDC soldiers\t撤退_V 士兵_N 們_N 洗劫_V\n",
      "appreciate the sweet boiled water\t體會到_V 白開水_N 的_DE 甘甜_V\n",
      "know you\t知道_V 你_N 想要_V\n",
      "\n",
      "\n",
      "n V n 1266\n",
      "required the traveler\t警察_N 要求_V 旅客_N\n",
      "enter the church\t們_N 進入_V 了_ASP 教堂_N\n",
      "lose my job\t我_N 失去_V 了_ASP 工作_N\n",
      "\n",
      "\n"
     ]
    }
   ],
   "source": [
    "for i in sorted(all_info_dict[search_word],key=lambda x:-len(all_info_dict[search_word][x]) ):\n",
    "    if len(all_info_dict[search_word][i]) > door and i != '':\n",
    "        print(i,len(all_info_dict[search_word][i]))\n",
    "        for sent in list(set(all_info_dict[search_word][i]))[:3]:\n",
    "            print(sent)\n",
    "        print('\\n')\n",
    "#         print(all_info_dict[search_word][i][:3])\n",
    "#         print(all_info_dict[search_word][i])"
   ]
  },
  {
   "cell_type": "code",
   "execution_count": null,
   "metadata": {},
   "outputs": [],
   "source": [
    "mean"
   ]
  },
  {
   "cell_type": "code",
   "execution_count": null,
   "metadata": {},
   "outputs": [],
   "source": []
  }
 ],
 "metadata": {
  "kernelspec": {
   "display_name": "Python 3",
   "language": "python",
   "name": "python3"
  },
  "language_info": {
   "codemirror_mode": {
    "name": "ipython",
    "version": 3
   },
   "file_extension": ".py",
   "mimetype": "text/x-python",
   "name": "python",
   "nbconvert_exporter": "python",
   "pygments_lexer": "ipython3",
   "version": "3.6.4"
  }
 },
 "nbformat": 4,
 "nbformat_minor": 2
}
