{
 "cells": [
  {
   "cell_type": "code",
   "execution_count": 109,
   "metadata": {},
   "outputs": [],
   "source": [
    "import re\n",
    "from collections import Counter\n",
    "from pprint import pprint\n",
    "from math import log\n",
    "\n",
    "'''Word Probability'''\n",
    "def words(text): return re.findall(r'\\w+', text.lower())\n",
    "count_word = Counter(words(open('big.txt').read()))\n",
    "Nw = sum(count_word.values())\n",
    "Pdist = {word: float(count)/Nw for word, count in count_word.items()}"
   ]
  },
  {
   "cell_type": "code",
   "execution_count": 110,
   "metadata": {},
   "outputs": [],
   "source": [
    "def correction(word):\n",
    "    MAXBEAM = 500\n",
    "    total_state = []\n",
    "    states = [(\"\", word, 0, Pw(word),1)]\n",
    "    for i in range(len(word)):\n",
    "#         print(i, states[:3])\n",
    "        new_s = []\n",
    "        for s in states:\n",
    "            new_s += next_states(s)\n",
    "        states = new_s\n",
    "        d = {}\n",
    "        for i in states:\n",
    "            if i[0]+i[1] in d:\n",
    "                if d[i[0]+i[1]][2] > i[2]:\n",
    "                    d[i[0]+i[1]] = i\n",
    "            else:\n",
    "                d[i[0]+i[1]] = i\n",
    "        states = d.values()\n",
    "        states = sorted(states, key=lambda x: x[2]) \n",
    "        states = sorted(states, key=lambda x: P(x[4],x[3],x[2]),reverse=True)[:MAXBEAM] \n",
    "#         pprint(states[:3])\n",
    "#     return max(states[:3])\n",
    "    return states[:10]"
   ]
  },
  {
   "cell_type": "code",
   "execution_count": 111,
   "metadata": {},
   "outputs": [],
   "source": [
    "def next_states(state):\n",
    "    letters    = 'abcdefghijklmnopqrstuvwxyz'\n",
    "    L, R, edit, pw, pedit = state\n",
    "    R0, R1 = R[0], R[1:]\n",
    "    if edit == 2: return [(L + R0 , R1 , edit ,pw, pedit*0.8 )]\n",
    "    noedit = [(L + R0 , R1 , edit ,pw, pedit*0.8 )]\n",
    "    delete  =[(L , R1, edit+1,Pw(L+R1), pedit*Pedit(L[-1]+R0,L[-1]))] if len(L)>0 else [('' , R1, edit+1,Pw(R1), pedit*Pedit(R0,''))]\n",
    "    replace =[(L +c, R1 , edit+1, Pw(L+c+R1), pedit*Pedit(R0,c) )for c in letters]\n",
    "    insert = [(L + R0 + c , R1 ,edit+1,Pw(L + R0 + c + R1), pedit*Pedit(R0,R0+c))for c in letters]\n",
    "    transpose = [( L[:-1] + R0 ,L[-1]+ R1 , edit+1,Pw(L[:-1] + R0 +L[-1]+ R1), pedit+Pedit(L[-1]+R0,R0+L[-1]))] if len(L)>0 else []\n",
    "#     transpose = [( L + R1[0] ,R0+ R1[1:] , edit+1,Pw(L + R1[0] +R0+ R1[1:]), pedit+Pedit(L + R1,R0+R1[1:]))]\n",
    "\n",
    "#     delete  =[(L , R1, edit+1,Pw(L+R1), pedit*Pedit(R0,\"\"))]  #if len(L)>0 else []\n",
    "\n",
    "    return noedit + delete + replace + insert + transpose"
   ]
  },
  {
   "cell_type": "code",
   "execution_count": 112,
   "metadata": {},
   "outputs": [],
   "source": [
    "def candidates(word): \n",
    "    \"Generate possible spelling corrections for word.\"\n",
    "    return (known([word]) or known(edits1(word)) or known(edits2(word)) or [word])\n",
    "\n",
    "def known(words): \n",
    "    \"The subset of `words` that appear in the dictionary of WORDS.\"\n",
    "    return set(w for w in words if w in WORDS)\n",
    "\n",
    "def edits1(word):\n",
    "    \"All edits that are one edit away from `word`.\"\n",
    "    letters    = 'abcdefghijklmnopqrstuvwxyz'\n",
    "    splits     = [(word[:i], word[i:])    for i in range(len(word) + 1)]\n",
    "    deletes    = [L + R[1:]               for L, R in splits if R]\n",
    "    transposes = [L + R[1] + R[0] + R[2:] for L, R in splits if len(R)>1]\n",
    "    replaces   = [L + c + R[1:]           for L, R in splits if R for c in letters]\n",
    "    inserts    = [L + c + R               for L, R in splits for c in letters]\n",
    "    return set(deletes + transposes + replaces + inserts)\n",
    "\n",
    "def edits2(word):\n",
    "    \"All edits that are two edits away from `word`.\"\n",
    "    return (e2 for e1 in edits1(word) for e2 in edits1(e1))"
   ]
  },
  {
   "cell_type": "code",
   "execution_count": 113,
   "metadata": {},
   "outputs": [],
   "source": [
    "count = {}\n",
    "count_c = {}\n",
    "for line in open('count_1.txt', 'r'):\n",
    "#     print(line.split()[0],line.split()[1])\n",
    "#     print(line.split('\\t')[0].split('|')[0],line.split('\\t')[0].split('|')[1])\n",
    "    count[(line.split('\\t')[0].split('|')[0],line.split('\\t')[0].split('|')[1])] = int(line.split('\\t')[1].strip('\\n'))\n",
    "    if line.split('\\t')[0].split('|')[1] in count_c:\n",
    "        count_c[line.split('\\t')[0].split('|')[1]] += int(line.split('\\t')[1].strip('\\n'))\n",
    "    else:\n",
    "        count_c[line.split('\\t')[0].split('|')[1]] = int(line.split('\\t')[1].strip('\\n'))\n",
    "\n",
    "\n",
    "Nall = len(count)\n",
    "N0 =  26*26*26*26+2*26*26*26+26*26 - Nall\n",
    "All_N_Count =  Counter(count.values())\n",
    "# print(All_N_Count)\n",
    "Nr = [ N0 if r == 0 else All_N_Count[r] for r in range(12) ]\n",
    "# print(Nr)\n",
    "\n",
    "def Pw(word, N=sum(count_word.values())): \n",
    "#     if word in count_word:\n",
    "    return count_word[word] / N\n",
    "#     else:\n",
    "#         return 0\n",
    "#         print(10/10**len(word)/Nw)\n",
    "#         return (1/1000**len(word))/N\n",
    "\n",
    "def smooth(count, r=10):\n",
    "#     print(type(count))\n",
    "    r = int(r)\n",
    "    if int(count) <= r:\n",
    "#         if (count+1)*0.7*Nr[count+1]/Nr[count] > 1:\n",
    "#             print(count,(count+1)*Nr[count+1],Nr[count])\n",
    "        return (count+1)*Nr[count+1]/Nr[count]\n",
    "    else:\n",
    "#         print('smooth',All_N_Count[count])\n",
    "#         return 0\n",
    "        return All_N_Count[count]\n",
    "\n",
    "def Pedit(w, c):\n",
    "    if c in count_c:\n",
    "        if count_c[c] > 0:\n",
    "            if (w,c) not in count:\n",
    "#                 return log(smooth(0))\n",
    "#                 print('up',w,c,smooth(0),count_c[c])\n",
    "                return smooth(0)/count_c[c]\n",
    "\n",
    "            else:\n",
    "                try:\n",
    "#                     if smooth(count[(w,c)])/(count_c[c]) > 1:\n",
    "#                         print('under',w,c, smooth(count[(w,c)]),count_c[c])\n",
    "                    return smooth(count[(w,c)])/count_c[c]\n",
    "                except:\n",
    "                    print(count_c[c])\n",
    "    else:\n",
    "        return 0\n",
    "\n",
    "# '''Combining channel probability with word probability to score states'''\n",
    "def P(pedit, pw,edit):\n",
    "#     return pw\n",
    "    return pw*pedit/(edit+1)"
   ]
  },
  {
   "cell_type": "code",
   "execution_count": null,
   "metadata": {},
   "outputs": [],
   "source": [
    "print(Nr)\n",
    "print(Nr[1]*1*0.5/Nr[2])\n",
    "print(Nr[2])\n",
    "print(count_c)\n",
    "print(count)"
   ]
  },
  {
   "cell_type": "code",
   "execution_count": 17,
   "metadata": {},
   "outputs": [
    {
     "data": {
      "text/plain": [
       "[('wanted', '', 2, 0.0001909312154609465, 0.0004558976840649845),\n",
       " ('walter', '', 2, 1.7927813658304835e-06, 0.00043919813519813526),\n",
       " ('webster', '', 2, 2.509893912162677e-05, 2.6699241843598322e-05),\n",
       " ('water', '', 2, 0.00016762505770515022, 3.9255202628696605e-06),\n",
       " ('weaker', '', 2, 2.1513376389965804e-05, 2.453450164293538e-05),\n",
       " ('wander', '', 2, 8.963906829152418e-06, 3.964327687521604e-05),\n",
       " ('winter', '', 2, 4.6612315511592574e-05, 3.878787878787879e-06),\n",
       " ('waiter', '', 2, 6.2747347804066925e-06, 2.8703030303030304e-05),\n",
       " ('weather', '', 2, 3.764840868244015e-05, 4.205914567360351e-06),\n",
       " ('decanter', '', 2, 1.7927813658304835e-06, 5.739607602125744e-05)]"
      ]
     },
     "execution_count": 17,
     "metadata": {},
     "output_type": "execute_result"
    }
   ],
   "source": [
    "correction('weanter')"
   ]
  },
  {
   "cell_type": "code",
   "execution_count": 186,
   "metadata": {},
   "outputs": [],
   "source": [
    "hits = 4"
   ]
  },
  {
   "cell_type": "code",
   "execution_count": 296,
   "metadata": {},
   "outputs": [
    {
     "name": "stdout",
     "output_type": "stream",
     "text": [
      "['at', 'brake', 'time']\n",
      "not found\n",
      "{'at brake time': 0}\n",
      "at brake time\n"
     ]
    }
   ],
   "source": [
    "import LinggleAPI\n",
    "import requests\n",
    "import math\n",
    "\n",
    "SE = LinggleAPI.Linggle()\n",
    "    # Search_Result = SE.search(\"approach that *\")\n",
    "    # print Search_Result\n",
    "    # at * time\n",
    "# test = 'when the brake is finished'.split()\n",
    "raw_test = 'at brake time'\n",
    "\n",
    "test = raw_test.lower().split()\n",
    "print(test)\n",
    "    # test = '? is finished'\n",
    "    # test = 'brake is finished'\n",
    "    \n",
    "trigram = {}\n",
    "\n",
    "\n",
    "for i in range(len(test) - 2):\n",
    "#     print(i)\n",
    "    now_tri = ' '.join(test[i:i + 3])\n",
    "    res = SE[now_tri]\n",
    "    if res:\n",
    "        c = '\\n'.join('\\t'.join([str(y) for y in x]) for x in res)\n",
    "        trigram[now_tri] = float(c.split('\\t')[1])\n",
    "#         print('\\n'.join('\\t'.join([str(y) for y in x]) for x in res))\n",
    "\n",
    "    else:\n",
    "        trigram[now_tri] = 0\n",
    "        \n",
    "        print('not found')\n",
    "        \n",
    "print(trigram)\n",
    "can_tri = min(trigram,key = trigram.get)\n",
    "# for same in sorted(trigram,key = trigram.get):\n",
    "    \n",
    "print(can_tri)"
   ]
  },
  {
   "cell_type": "code",
   "execution_count": 297,
   "metadata": {
    "scrolled": true
   },
   "outputs": [],
   "source": [
    "candidates = []\n",
    "sen_and_err = {}\n",
    "for i, t in enumerate(str(can_tri).split(' ')):\n",
    "    if len(t) < 3:\n",
    "        pass\n",
    "    else:\n",
    "#         print(t)\n",
    "        for i,c in enumerate(correction(t)):\n",
    "#             print(c)\n",
    "            s = []\n",
    "            for ot in test:\n",
    "#                 print(ot)\n",
    "                if str(t) == str(ot):\n",
    "                    s.append(c[0]+c[1])\n",
    "                else:\n",
    "                    s.append(ot)\n",
    "#             print(s)\n",
    "#             candidates[str(t)] = \n",
    "#             candidates.append('\\t'.join([str(y) for y in s]))\n",
    "            candidates.append([s,c[0]+c[1],i+1])\n",
    "            sen_and_err['\\t'.join([str(y) for y in s])] = (str(t),c[0]+c[1])\n",
    "                \n",
    "#                     a[n] = 10\n",
    "#             print(test[i])\n",
    "#             print(i[0])\n",
    "        "
   ]
  },
  {
   "cell_type": "code",
   "execution_count": 298,
   "metadata": {},
   "outputs": [
    {
     "name": "stdout",
     "output_type": "stream",
     "text": [
      "[[['at', 'brake', 'time'], 'brake', 1],\n",
      " [['at', 'barge', 'time'], 'barge', 2],\n",
      " [['at', 'broke', 'time'], 'broke', 3],\n",
      " [['at', 'bake', 'time'], 'bake', 4],\n",
      " [['at', 'brace', 'time'], 'brace', 5],\n",
      " [['at', 'drake', 'time'], 'drake', 6],\n",
      " [['at', 'burke', 'time'], 'burke', 7],\n",
      " [['at', 'bragg', 'time'], 'bragg', 8],\n",
      " [['at', 'break', 'time'], 'break', 9],\n",
      " [['at', 'trade', 'time'], 'trade', 10],\n",
      " [['at', 'brake', 'time'], 'time', 1],\n",
      " [['at', 'brake', 'them'], 'them', 2],\n",
      " [['at', 'brake', 'tied'], 'tied', 3],\n",
      " [['at', 'brake', 'times'], 'times', 4],\n",
      " [['at', 'brake', 'lime'], 'lime', 5],\n",
      " [['at', 'brake', 'amie'], 'amie', 6],\n",
      " [['at', 'brake', 'limb'], 'limb', 7],\n",
      " [['at', 'brake', 'tide'], 'tide', 8],\n",
      " [['at', 'brake', 'him'], 'him', 9],\n",
      " [['at', 'brake', 'life'], 'life', 10]]\n"
     ]
    }
   ],
   "source": [
    "pprint(candidates)"
   ]
  },
  {
   "cell_type": "code",
   "execution_count": 299,
   "metadata": {},
   "outputs": [
    {
     "name": "stdout",
     "output_type": "stream",
     "text": [
      "[['at', 'brake', 'time'], 'brake', 1]\n",
      "[['at', 'barge', 'time'], 'barge', 2]\n",
      "[['at', 'broke', 'time'], 'broke', 3]\n",
      "[['at', 'bake', 'time'], 'bake', 4]\n",
      "[['at', 'brace', 'time'], 'brace', 5]\n",
      "[['at', 'drake', 'time'], 'drake', 6]\n",
      "[['at', 'burke', 'time'], 'burke', 7]\n",
      "[['at', 'bragg', 'time'], 'bragg', 8]\n",
      "[['at', 'break', 'time'], 'break', 9]\n",
      "at break time\t4413\n",
      "[['at', 'trade', 'time'], 'trade', 10]\n",
      "at trade time\t69\n",
      "[['at', 'brake', 'time'], 'time', 1]\n",
      "[['at', 'brake', 'them'], 'them', 2]\n",
      "[['at', 'brake', 'tied'], 'tied', 3]\n",
      "[['at', 'brake', 'times'], 'times', 4]\n",
      "[['at', 'brake', 'lime'], 'lime', 5]\n",
      "[['at', 'brake', 'amie'], 'amie', 6]\n",
      "[['at', 'brake', 'limb'], 'limb', 7]\n",
      "[['at', 'brake', 'tide'], 'tide', 8]\n",
      "[['at', 'brake', 'him'], 'him', 9]\n",
      "[['at', 'brake', 'life'], 'life', 10]\n"
     ]
    }
   ],
   "source": [
    "\n",
    "score = {}\n",
    "for test in candidates:\n",
    "    print(test)\n",
    "    can_trigram = {}\n",
    "    tri_m_sum = 1\n",
    "    change_word = test[1] \n",
    "    for i in range(len(test[0]) - 2):\n",
    "        now_tri = ' '.join(test[0][i:i + 3])\n",
    "        res = SE.search(' '.join(test[0][i:i + 3]))\n",
    "        if res:\n",
    "            c = '\\n'.join('\\t'.join([str(y) for y in x]) for x in res)\n",
    "            can_trigram[now_tri] = float(c.split('\\t')[1])/test[2]\n",
    "            print('\\n'.join('\\t'.join([str(y) for y in x]) for x in res))\n",
    "        else:\n",
    "            if now_tri[0] in Pdist and now_tri[1] in Pdist and now_tri[2] in Pdist:\n",
    "                can_trigram[now_tri] = 1/test[2]\n",
    "            else:\n",
    "                can_trigram[now_tri] = 0\n",
    "#                 print('not found')\n",
    "            \n",
    "    for k in can_trigram.values():\n",
    "        tri_m_sum *= k\n",
    "        \n",
    "    score['\\t'.join([str(y) for y in test[0]])] = tri_m_sum\n",
    "#     print(sum(c for c in can_trigram.items()))"
   ]
  },
  {
   "cell_type": "code",
   "execution_count": 300,
   "metadata": {
    "scrolled": false
   },
   "outputs": [
    {
     "name": "stdout",
     "output_type": "stream",
     "text": [
      "{'at\\tbake\\ttime': 0,\n",
      " 'at\\tbarge\\ttime': 0,\n",
      " 'at\\tbrace\\ttime': 0,\n",
      " 'at\\tbragg\\ttime': 0,\n",
      " 'at\\tbrake\\tamie': 0,\n",
      " 'at\\tbrake\\thim': 0,\n",
      " 'at\\tbrake\\tlife': 0,\n",
      " 'at\\tbrake\\tlimb': 0,\n",
      " 'at\\tbrake\\tlime': 0,\n",
      " 'at\\tbrake\\tthem': 0,\n",
      " 'at\\tbrake\\ttide': 0,\n",
      " 'at\\tbrake\\ttied': 0,\n",
      " 'at\\tbrake\\ttime': 0,\n",
      " 'at\\tbrake\\ttimes': 0,\n",
      " 'at\\tbreak\\ttime': 490.3333333333333,\n",
      " 'at\\tbroke\\ttime': 0,\n",
      " 'at\\tburke\\ttime': 0,\n",
      " 'at\\tdrake\\ttime': 0,\n",
      " 'at\\ttrade\\ttime': 6.9}\n"
     ]
    }
   ],
   "source": [
    "# pprint(can_trigram)\n",
    "pprint(score)"
   ]
  },
  {
   "cell_type": "code",
   "execution_count": 301,
   "metadata": {
    "scrolled": false
   },
   "outputs": [
    {
     "name": "stdout",
     "output_type": "stream",
     "text": [
      "at\tbreak\ttime\n"
     ]
    },
    {
     "data": {
      "text/plain": [
       "255563436120"
      ]
     },
     "execution_count": 301,
     "metadata": {},
     "output_type": "execute_result"
    }
   ],
   "source": [
    "print(max(score,key = score.get))\n",
    "# print(score)\n",
    "7433913360\n",
    "255563436120\n",
    "# error_sen = '\\t'.join([str(y) for y in test])\n",
    "# correction_sen = max(score, key=score.get)\n",
    "# print(correction_sen)\n",
    "# print(max(can_trigram))"
   ]
  },
  {
   "cell_type": "code",
   "execution_count": 302,
   "metadata": {},
   "outputs": [],
   "source": [
    "error_sen = ' '.join([str(y) for y in test[0]])\n",
    "correction_sen = max(score, key=score.get)\n",
    "error_text = sen_and_err.get(correction_sen)[0]\n",
    "correction_text = sen_and_err.get(correction_sen)[1]"
   ]
  },
  {
   "cell_type": "code",
   "execution_count": 303,
   "metadata": {},
   "outputs": [
    {
     "name": "stdout",
     "output_type": "stream",
     "text": [
      "Error: brake\n",
      "Candidates:\n",
      "brake\n",
      "barg\n",
      "broke\n",
      "bake\n",
      "brace\n",
      "drake\n",
      "burke\n",
      "bragg\n",
      "break\n",
      "trade\n",
      "Correction: break\n",
      "at brake time ---> at break time\n",
      "Hits: 10\n",
      "\n",
      "\n"
     ]
    }
   ],
   "source": [
    "print(\"Error:\",error_text)\n",
    "print(\"Candidates:\")\n",
    "for i in correction(error_text):\n",
    "    print(i[0])\n",
    "print(\"Correction:\",correction_text)\n",
    "correction_sen = \" \".join(i for i in correction_sen.split('\\t'))\n",
    "print(raw_test ,'--->',correction_sen)\n",
    "if testing_dict.get(raw_test.lower()) == correction_sen:\n",
    "    hits += 1\n",
    "print(\"Hits:\",hits)\n",
    "print('\\n')"
   ]
  },
  {
   "cell_type": "code",
   "execution_count": 295,
   "metadata": {},
   "outputs": [
    {
     "name": "stdout",
     "output_type": "stream",
     "text": [
      "an ancient method of hunting\n",
      "an action method of hunting\n",
      "an action method of hunting\n"
     ]
    }
   ],
   "source": [
    "print(testing_dict.get(raw_test.lower()) )\n",
    "for i in correction_sen.split('\\t'):\n",
    "    print(i)\n",
    "correction_sen = \" \".join(i for i in correction_sen.split('\\t'))\n",
    "print(correction_sen)\n",
    "if correction_sen == testing_dict.get(raw_test.lower()):\n",
    "    print('tes')"
   ]
  },
  {
   "cell_type": "code",
   "execution_count": 139,
   "metadata": {},
   "outputs": [],
   "source": [
    "testing_data = open('lab4.test.1.txt')\n",
    "testing_dict = {}\n",
    "for i in testing_data.readlines()[:20]:\n",
    "    testing_dict[i.split('\\t')[0].lower().strip()] = i.split('\\t')[1].lower().strip()"
   ]
  },
  {
   "cell_type": "code",
   "execution_count": null,
   "metadata": {
    "scrolled": true
   },
   "outputs": [],
   "source": [
    "for i in testing_dict:\n",
    "    print(i,'|',testing_dict.get(i))\n",
    "print(testing_dict.get('i felt very strang'))"
   ]
  },
  {
   "cell_type": "code",
   "execution_count": null,
   "metadata": {},
   "outputs": [],
   "source": [
    "fusion_word = open('lab4.confusables.txt')\n",
    "fusion_dict = {}\n",
    "for i in fusion_word.readlines():\n",
    "    fusion_dict[i.split('\\t')[0].lower().strip()] = i.split('\\t')[1].lower().strip()"
   ]
  },
  {
   "cell_type": "code",
   "execution_count": null,
   "metadata": {},
   "outputs": [],
   "source": [
    "hits = 0\n",
    "import NetSpeakAPI\n",
    "SE = NetSpeakAPI.NetSpeak()\n",
    "for i in testing_dict:\n",
    "\n",
    "# def CORRECTION(raw_test):\n",
    "    global hits\n",
    "    raw_test = i\n",
    "    \n",
    "#     raw_test = 'I felt very strang'\n",
    "    test = raw_test.lower().split()\n",
    "    \n",
    "    trigram = {}\n",
    "\n",
    "\n",
    "    for i in range(len(test) - 2):\n",
    "        now_tri = ' '.join(test[i:i + 3])\n",
    "        res = SE.search(' '.join(test[i:i + 3]))\n",
    "        if res:\n",
    "            c = '\\n'.join(' '.join([str(y) for y in x]) for x in res)\n",
    "#             print(c)\n",
    "            trigram[now_tri] = float(c.split(' ')[-1])\n",
    "#         print('\\n'.join('\\t'.join([str(y) for y in x]) for x in res))\n",
    "        else:\n",
    "            trigram[now_tri] = 0\n",
    "#             print('not found')\n",
    "    \n",
    "#     print(trigram)\n",
    "    can_tri = min(trigram,key=trigram.get)\n",
    "    \n",
    "    candidates = []\n",
    "    sen_and_err = {}\n",
    "    for i, t in enumerate(str(can_tri).split(' ')):\n",
    "        if len(t) < 3:\n",
    "            pass\n",
    "        else:\n",
    "            for c in correction(t):\n",
    "                s = []\n",
    "\n",
    "                for ot in test:\n",
    "                    if str(t) == str(ot):\n",
    "                        s.append(c[0]+c[1])\n",
    "                    else:\n",
    "                        s.append(ot)\n",
    "#                 print(s)\n",
    "#             candidates[str(t)] = \n",
    "#             candidates.append('\\t'.join([str(y) for y in s]))\n",
    "                candidates.append(s)\n",
    "                sen_and_err[' '.join([str(y) for y in s])] = (str(t),c[0]+c[1])\n",
    "        \n",
    "    score = {}\n",
    "#     print(candidates)\n",
    "    for test in candidates:\n",
    "#         print(test)\n",
    "        can_trigram = {}\n",
    "        m_sum = 1\n",
    "        for i in range(len(test) - 2):\n",
    "            now_tri = ' '.join(test[i:i + 3])\n",
    "            res = SE.search(' '.join(test[i:i + 3]))\n",
    "            if res:\n",
    "                c = '\\n'.join(' '.join([str(y) for y in x]) for x in res)\n",
    "                can_trigram[now_tri] = float(c.split(' ')[-1])\n",
    "#                 print('\\n'.join(' '.join([str(y) for y in x]) for x in res))\n",
    "            else:\n",
    "                can_trigram[now_tri] = 0\n",
    "#                 print('not found')\n",
    "    \n",
    "        for k in can_trigram.values():\n",
    "            m_sum *= k\n",
    "        score[' '.join([str(y) for y in test])] = m_sum\n",
    "    \n",
    "    error_sen = ' '.join([str(y) for y in test])\n",
    "    correction_sen = max(score, key=score.get)\n",
    "    error_text = sen_and_err.get(correction_sen)[0]\n",
    "    correction_text = sen_and_err.get(correction_sen)[1]\n",
    "    \n",
    "#     for i, t in enumerate(str(can_tri).split(' ')):\n",
    "#         if t in fusion_dict:\n",
    "#             correction_text = fusion_dict[t]\n",
    "#             error_text = t\n",
    "#             for n, token in enumerate(raw_test.lower()):\n",
    "#                 if token == t:\n",
    "#                     raw_test.lower()[n] = correction_text\n",
    "#             break\n",
    "    \n",
    "    print(\"Error:\",error_text)\n",
    "    print(\"Candidates:\")\n",
    "    for i in correction(error_text):\n",
    "        print(i[0])\n",
    "    print(\"Correction:\",correction_text)\n",
    "    print(raw_test ,'--->',correction_sen)\n",
    "    if testing_dict.get(raw_test.lower()) == correction_sen:\n",
    "        hits += 1\n",
    "    print(hits)"
   ]
  },
  {
   "cell_type": "code",
   "execution_count": null,
   "metadata": {
    "scrolled": true
   },
   "outputs": [],
   "source": [
    "for i in testing_dict:\n",
    "    CORRECTION(i)"
   ]
  },
  {
   "cell_type": "code",
   "execution_count": null,
   "metadata": {},
   "outputs": [],
   "source": [
    "for i in testing_dict:\n",
    "    raw_test = i\n",
    "    test = raw_test.lower().split()\n",
    "    print(test)\n",
    "    # test = '? is finished'\n",
    "    # test = 'brake is finished'\n",
    "    \n",
    "    trigram = {}\n",
    "\n",
    "\n",
    "    for i in range(len(test) - 2):\n",
    "        now_tri = ' '.join(test[i:i + 3])\n",
    "        res = SE[now_tri]\n",
    "        if res:\n",
    "            c = '\\n'.join('\\t'.join([str(y) for y in x]) for x in res)\n",
    "            trigram[now_tri] = float(c.split('\\t')[1])\n",
    "#         print('\\n'.join('\\t'.join([str(y) for y in x]) for x in res))\n",
    "\n",
    "        else:\n",
    "            trigram[now_tri] = 0\n",
    "            print('not found')\n",
    "        \n",
    "    print(trigram)\n",
    "    can_tri = min(trigram,key = trigram.get) \n",
    "    print(can_tri)"
   ]
  }
 ],
 "metadata": {
  "kernelspec": {
   "display_name": "Python 3",
   "language": "python",
   "name": "python3"
  },
  "language_info": {
   "codemirror_mode": {
    "name": "ipython",
    "version": 3
   },
   "file_extension": ".py",
   "mimetype": "text/x-python",
   "name": "python",
   "nbconvert_exporter": "python",
   "pygments_lexer": "ipython3",
   "version": "3.6.4"
  }
 },
 "nbformat": 4,
 "nbformat_minor": 2
}
