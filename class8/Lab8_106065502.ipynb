{
 "cells": [
  {
   "cell_type": "code",
   "execution_count": 1,
   "metadata": {},
   "outputs": [],
   "source": [
    "import fileinput\n",
    "from collections import Counter, defaultdict"
   ]
  },
  {
   "cell_type": "code",
   "execution_count": 2,
   "metadata": {},
   "outputs": [],
   "source": [
    "src = open('All_src.txt','r').read().split('\\n\\n')\n",
    "tgt = open('All_tgt.txt','r').read().split('\\n\\n')\n",
    "tgt_p = []\n",
    "src_p = []\n",
    "Test_src = open('test_src.txt','r').read().split('\\n\\n')\n",
    "testing_src = []"
   ]
  },
  {
   "cell_type": "code",
   "execution_count": 3,
   "metadata": {},
   "outputs": [],
   "source": [
    "# pattern = defaultdict(lambda:defaultdict(lambda:Counter()))\n",
    "lan_model = defaultdict(lambda:Counter())\n",
    "pattern = defaultdict(lambda:Counter())"
   ]
  },
  {
   "cell_type": "code",
   "execution_count": 4,
   "metadata": {},
   "outputs": [],
   "source": [
    "for line in src:\n",
    "    s = []\n",
    "    try :\n",
    "        sent, patterns = line.strip().split('\\n',1)\n",
    "        for p in patterns.split('\\n'):\n",
    "            s.append(p)\n",
    "        src_p.append(s)\n",
    "    except:\n",
    "        pass\n",
    "\n",
    "for line in tgt:\n",
    "    s = []\n",
    "    try :\n",
    "        sent, patterns = line.strip().split('\\n',1)\n",
    "        for p in patterns.split('\\n'):\n",
    "            s.append(p)\n",
    "        tgt_p.append(s)\n",
    "    except:\n",
    "        pass"
   ]
  },
  {
   "cell_type": "code",
   "execution_count": null,
   "metadata": {},
   "outputs": [],
   "source": [
    "\n",
    "\n",
    "# for line in tgt:\n",
    "#     s = []\n",
    "#     sent, patterns = line.strip().split('\\n',1)\n",
    "#     for p in patterns.split('\\n'):\n",
    "#         s.append(p)\n",
    "#     tgt_p.append(s)\n",
    "\n",
    "# for line in Test_src:\n",
    "#     s = []\n",
    "#     sent, patterns = line.strip().split('\\n',1)\n",
    "#     for p in patterns.split('\\n'):\n",
    "#         s.append(p)\n",
    "#     testing_src.append(s)\n",
    "\n"
   ]
  },
  {
   "cell_type": "code",
   "execution_count": 5,
   "metadata": {},
   "outputs": [
    {
     "name": "stdout",
     "output_type": "stream",
     "text": [
      "6051 6051\n"
     ]
    }
   ],
   "source": [
    "print(len(tgt),len(src))"
   ]
  },
  {
   "cell_type": "code",
   "execution_count": null,
   "metadata": {},
   "outputs": [],
   "source": [
    "src_p[0]"
   ]
  },
  {
   "cell_type": "code",
   "execution_count": null,
   "metadata": {},
   "outputs": [],
   "source": [
    "tgt_p[0]"
   ]
  },
  {
   "cell_type": "code",
   "execution_count": 6,
   "metadata": {},
   "outputs": [],
   "source": [
    "for n, pats in enumerate(src_p):\n",
    "    for p in pats:\n",
    "        try :\n",
    "            for t in tgt_p[n]:\n",
    "                if p.split('\\t')[0] == t.split('\\t')[0] :\n",
    "#                     print(p.split('\\t')[1],t.split('\\t')[1])\n",
    "                    if p.split('\\t')[1] == t.split('\\t')[1]:\n",
    "                        pass\n",
    "                    else:\n",
    "                        pattern[p.split('\\t')[1]][t.split('\\t')[1]] += 1\n",
    "                    lan_model[p.split('\\t')[0]][str(t.split('\\t')[1])] += 1\n",
    "        except:\n",
    "            pass\n",
    "#     if pats.split('\\t')[0] == tgt[n][]\n",
    "    \n",
    "#     pattern[i.split('\\t')[1]][tgt_p[n].split('\\t')[1]][i.split('\\t')[0]] += 1\n",
    "#     lan_model[i.split('\\t')[0]][tgt_p[n].split('\\t')[1]] += 1"
   ]
  },
  {
   "cell_type": "code",
   "execution_count": 48,
   "metadata": {},
   "outputs": [
    {
     "name": "stdout",
     "output_type": "stream",
     "text": [
      "Counter({'V to n': 23, 'V in n': 7, 'V n': 5, 'V adv': 5, 'V to v': 3, 'V on n': 2, 'V about n': 1, 'V': 1, 'V adj': 1, 'V as n': 1, 'V at n': 1})\n",
      "50\n",
      "Counter({'V for n': 91, 'V n': 26, 'V to v': 7, 'V adv': 4, 'V in n': 4, 'V at n': 3, 'V n to v': 2, 'V with n': 1, 'V n v n': 1, 'V wh': 1, 'V wh to v': 1, 'V n n': 1, 'V': 1, 'V that': 1, 'V as n': 1})\n"
     ]
    }
   ],
   "source": [
    "print(pattern['V for n'])\n",
    "print(sum(pattern['V for n'].values()))\n",
    "print(pattern['V to n'])"
   ]
  },
  {
   "cell_type": "code",
   "execution_count": 43,
   "metadata": {},
   "outputs": [
    {
     "name": "stdout",
     "output_type": "stream",
     "text": [
      "Counter({'V for n': 518, 'V to n': 78, 'V n': 29, 'V in n': 19, 'V adv': 13, 'V at n': 7, 'V as n': 7, 'V to v': 7, 'V n to v': 6, 'V on n': 3, 'V': 3, 'V n n': 2, 'V and v': 1, 'V n v-ed': 1, 'V by n': 1, 'V wh': 1, 'V adj': 1})\n",
      "697\n"
     ]
    }
   ],
   "source": [
    "print(lan_model['APPLY'])\n",
    "print(sum(lan_model['APPLY'].values()))"
   ]
  },
  {
   "cell_type": "code",
   "execution_count": 49,
   "metadata": {},
   "outputs": [
    {
     "data": {
      "text/plain": [
       "0.3418651362984218"
      ]
     },
     "execution_count": 49,
     "metadata": {},
     "output_type": "execute_result"
    }
   ],
   "source": [
    "23*518/50/697"
   ]
  },
  {
   "cell_type": "code",
   "execution_count": 57,
   "metadata": {},
   "outputs": [
    {
     "name": "stdout",
     "output_type": "stream",
     "text": [
      "Firstly , I train English every day with Englishtown , so that I can apply for the galleries only in English .\n",
      "('APPLY', 'V for n', 'V to n', 'V for n') 0.3418651362984218\n",
      "\n",
      "\n",
      "In the morning I have meetings to discuss about the problems of the machines and after that I go to the office to read and write emails .\n",
      "('DISCUSS', 'V about n', 'V n', 'V n') 0.4666876178504086\n",
      "\n",
      "\n",
      "To better explain you , I sent you three pictures .\n",
      "('EXPLAIN', 'V n', 'V for n', 'V to n') 0.14080459770114942\n",
      "\n",
      "\n",
      "You will never get an opportunity like this . I urge you to apply this job !\n",
      "('APPLY', 'V n', 'V for n', 'V for n') 0.251145302528076\n",
      "\n",
      "\n",
      "Let me tell you why you should apply to a zookeeper at Flossington Zoo .\n",
      "('APPLY', 'V to n', 'V for n', 'V for n') 0.4664127046949983\n",
      "\n",
      "\n",
      "Since you would like an outdoor job , I want to encourage you to apply the zookeeper position .\n",
      "('APPLY', 'V n', 'V for n', 'V for n') 0.251145302528076\n",
      "\n",
      "\n",
      "I want to encourage you to apply this position , sure you 'll enjoy it !\n",
      "('APPLY', 'V n', 'V for n', 'V for n') 0.251145302528076\n",
      "\n",
      "\n",
      "I really encourage you to apply to this position .\n",
      "('APPLY', 'V to n', 'V for n', 'V for n') 0.4664127046949983\n",
      "\n",
      "\n",
      "I urge you to apply this job because it suits your expectations .\n",
      "('APPLY', 'V n', 'V for n', 'V for n') 0.251145302528076\n",
      "\n",
      "\n",
      "I am a hardworking , motivated person , and I need an opportunity to explain about it .\n",
      "('EXPLAIN', 'V about n', 'V n', 'V to n') 0.30405405405405406\n",
      "\n",
      "\n",
      "I think they could make a meet with everyone to discuss about the company goals .\n",
      "('DISCUSS', 'V about n', 'V n', 'V n') 0.4666876178504086\n",
      "\n",
      "\n",
      "We checked the car again and explained the owner that it was an old car that was not in a good condition .\n",
      "We checked the car again and explained the owner that it was an old car that was not in a good condition .\n",
      "('EXPLAIN', 'V n that', 'V n', 'V to n') 0.17361111111111113\n",
      "\n",
      "\n",
      "- What kind of circumstances do we have to discuss about it ?\n",
      "('DISCUSS', 'V about n', 'V n', 'V n') 0.4666876178504086\n",
      "\n",
      "\n",
      "After that , I want to encourage you to apply this job .\n",
      "('APPLY', 'V n', 'V for n', 'V for n') 0.251145302528076\n",
      "\n",
      "\n",
      "We went to a steakhouse restaurant and discussed about our future relationship .\n",
      "('DISCUSS', 'V about n', 'V n', 'V n') 0.4666876178504086\n",
      "\n",
      "\n",
      "So I 'm applying to this .\n",
      "('APPLY', 'V to n', 'V for n', 'V for n') 0.4664127046949983\n",
      "\n",
      "\n",
      "I think this movie can apply for to Oscar .\n",
      "('APPLY', 'V to n', 'V for n', 'V for n') 0.4664127046949983\n",
      "\n",
      "\n",
      "In this meeting they discussed about the budget for the next year .\n",
      "('DISCUSS', 'V about n', 'V n', 'V n') 0.4666876178504086\n",
      "\n",
      "\n",
      "We primarily discussed about ocean shipping developing tendency of the inland market .\n",
      "('DISCUSS', 'V about n', 'V n', 'V n') 0.4666876178504086\n",
      "\n",
      "\n",
      "In the last meeting , we discussed about the quality assessment of our department .\n",
      "('DISCUSS', 'V about n', 'V n', 'V n') 0.4666876178504086\n",
      "\n",
      "\n",
      "We can see a lot of international conferences that have been discussing about the environment quality .\n",
      "('DISCUSS', 'V about n', 'V n', 'V n') 0.4666876178504086\n",
      "\n",
      "\n",
      "I like to get together with my friends to discuss about these things and to visit exhibitions .\n",
      "('DISCUSS', 'V about n', 'V n', 'V n') 0.4666876178504086\n",
      "\n",
      "\n",
      "I asked him , why they bought not much this season , there was a problem , and he explained me , that they found it a bit expensive for them .\n",
      "('EXPLAIN', 'V n', 'V for n', 'V to n') 0.14080459770114942\n",
      "\n",
      "\n",
      "To get this dream , I am going to apply to the master 's program in hotel management .\n",
      "('APPLY', 'V to n', 'V for n', 'V for n') 0.4664127046949983\n",
      "\n",
      "\n",
      "I will answer of your mail about the TV survey .\n",
      "('ANSWER', 'V of n', 'V n', 'V n') 0.506578947368421\n",
      "\n",
      "\n",
      "I will try to answer to your questions in a more detailed way .\n",
      "('ANSWER', 'V to n', 'V for n', 'V n') 0.5450090744101633\n",
      "\n",
      "\n",
      "I answer about your questions .\n",
      "('ANSWER', 'V about n', 'V n', 'V n') 0.6337126600284495\n",
      "\n",
      "\n",
      "Finally , if your choice is truth , you will answer about a personal question .\n",
      "('ANSWER', 'V about n', 'V n', 'V n') 0.6337126600284495\n",
      "\n",
      "\n",
      "All parents are invited to answer to the invitation before Wednesday .\n",
      "('ANSWER', 'V to n', 'V for n', 'V n') 0.5450090744101633\n",
      "\n",
      "\n"
     ]
    }
   ],
   "source": [
    "nnn = ['discuss','apply','answer','explain']\n",
    "for line in Test_src:\n",
    "    sent, patterns = line.strip().split('\\n',1)\n",
    "    score = {}\n",
    "    for t in patterns.split('\\n'):\n",
    "#         print(t)\n",
    "#         t = 'BE\tV adv\tare by far'\n",
    "        now_p = t.split('\\t') \n",
    "        if now_p[0].lower() in nnn:\n",
    "            print(sent)\n",
    "            for i in pattern[now_p[1]].items():\n",
    "#                 print(i[0])\n",
    "#                 print(now_p[0],now_p[1])\n",
    "#             print(s)\n",
    "                for l in lan_model[now_p[0]].items():\n",
    "                    a = sum(pattern[now_p[1]].values())\n",
    "                    b = sum(lan_model[now_p[0]].values())\n",
    "#                     print(i[1],l[1],a,b,i[1]*l[1]/a/b)\n",
    "#                     print(now_p[0],now_p[1],i[0])\n",
    "                    score[(now_p[0],now_p[1],i[0],l[0])] = i[1]*l[1]/a/b\n",
    "#                     total_a += i[1]\n",
    "        \n",
    "\n",
    "    if score :\n",
    "#         print(score)\n",
    "        a = max(score.keys(),key=lambda x: score[x])\n",
    "#         total = sum(score.values())\n",
    "        print(a, score[a])\n",
    "        print('\\n')\n"
   ]
  },
  {
   "cell_type": "code",
   "execution_count": null,
   "metadata": {
    "collapsed": true
   },
   "outputs": [],
   "source": []
  }
 ],
 "metadata": {
  "kernelspec": {
   "display_name": "Python 3",
   "language": "python",
   "name": "python3"
  },
  "language_info": {
   "codemirror_mode": {
    "name": "ipython",
    "version": 3
   },
   "file_extension": ".py",
   "mimetype": "text/x-python",
   "name": "python",
   "nbconvert_exporter": "python",
   "pygments_lexer": "ipython3",
   "version": "3.6.4"
  }
 },
 "nbformat": 4,
 "nbformat_minor": 2
}
